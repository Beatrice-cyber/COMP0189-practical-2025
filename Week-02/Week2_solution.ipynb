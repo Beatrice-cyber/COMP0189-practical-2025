{
 "cells": [
  {
   "cell_type": "markdown",
   "metadata": {},
   "source": [
    "# COMP0189: Applied Artificial Intelligence\n",
    "## Week 2 (pipelines and model selection)\n",
    "\n",
    "### After this week you will be able to ...\n",
    "- Streamline preprocessing steps in advanced way (Pipeline and ColumnTransformer)\n",
    "- Perform model selection and model assessment using different partitions of the data\n",
    "- Use different cross-validation strategies \n",
    "- Use GridSearchCV \n",
    "\n",
    "### Acknowledgements\n",
    "- https://archive.ics.uci.edu/ml/datasets/adult\n",
    "- https://scikit-learn.org/stable/modules/compose.html\n",
    "- https://scikit-learn.org/stable/model_selection.html"
   ]
  },
  {
   "cell_type": "markdown",
   "metadata": {},
   "source": [
    "## Preparation\n",
    "\n",
    "Before we begin, we make sure that all necessary libraries are installed."
   ]
  },
  {
   "cell_type": "code",
   "execution_count": 1,
   "metadata": {},
   "outputs": [
    {
     "name": "stdout",
     "output_type": "stream",
     "text": [
      "Requirement already satisfied: scikit-learn==1.6.1 in /home/cosimo/repos/COMP0189-practical-2025/.venv/lib/python3.12/site-packages (1.6.1)\n",
      "Requirement already satisfied: matplotlib in /home/cosimo/repos/COMP0189-practical-2025/.venv/lib/python3.12/site-packages (3.10.0)\n",
      "Requirement already satisfied: seaborn in /home/cosimo/repos/COMP0189-practical-2025/.venv/lib/python3.12/site-packages (0.13.2)\n",
      "Requirement already satisfied: pandas in /home/cosimo/repos/COMP0189-practical-2025/.venv/lib/python3.12/site-packages (2.2.3)\n",
      "Requirement already satisfied: numpy>=1.19.5 in /home/cosimo/repos/COMP0189-practical-2025/.venv/lib/python3.12/site-packages (from scikit-learn==1.6.1) (2.2.1)\n",
      "Requirement already satisfied: scipy>=1.6.0 in /home/cosimo/repos/COMP0189-practical-2025/.venv/lib/python3.12/site-packages (from scikit-learn==1.6.1) (1.15.1)\n",
      "Requirement already satisfied: joblib>=1.2.0 in /home/cosimo/repos/COMP0189-practical-2025/.venv/lib/python3.12/site-packages (from scikit-learn==1.6.1) (1.4.2)\n",
      "Requirement already satisfied: threadpoolctl>=3.1.0 in /home/cosimo/repos/COMP0189-practical-2025/.venv/lib/python3.12/site-packages (from scikit-learn==1.6.1) (3.5.0)\n",
      "Requirement already satisfied: contourpy>=1.0.1 in /home/cosimo/repos/COMP0189-practical-2025/.venv/lib/python3.12/site-packages (from matplotlib) (1.3.1)\n",
      "Requirement already satisfied: cycler>=0.10 in /home/cosimo/repos/COMP0189-practical-2025/.venv/lib/python3.12/site-packages (from matplotlib) (0.12.1)\n",
      "Requirement already satisfied: fonttools>=4.22.0 in /home/cosimo/repos/COMP0189-practical-2025/.venv/lib/python3.12/site-packages (from matplotlib) (4.55.3)\n",
      "Requirement already satisfied: kiwisolver>=1.3.1 in /home/cosimo/repos/COMP0189-practical-2025/.venv/lib/python3.12/site-packages (from matplotlib) (1.4.8)\n",
      "Requirement already satisfied: packaging>=20.0 in /home/cosimo/repos/COMP0189-practical-2025/.venv/lib/python3.12/site-packages (from matplotlib) (24.2)\n",
      "Requirement already satisfied: pillow>=8 in /home/cosimo/repos/COMP0189-practical-2025/.venv/lib/python3.12/site-packages (from matplotlib) (11.1.0)\n",
      "Requirement already satisfied: pyparsing>=2.3.1 in /home/cosimo/repos/COMP0189-practical-2025/.venv/lib/python3.12/site-packages (from matplotlib) (3.2.1)\n",
      "Requirement already satisfied: python-dateutil>=2.7 in /home/cosimo/repos/COMP0189-practical-2025/.venv/lib/python3.12/site-packages (from matplotlib) (2.9.0.post0)\n",
      "Requirement already satisfied: pytz>=2020.1 in /home/cosimo/repos/COMP0189-practical-2025/.venv/lib/python3.12/site-packages (from pandas) (2024.2)\n",
      "Requirement already satisfied: tzdata>=2022.7 in /home/cosimo/repos/COMP0189-practical-2025/.venv/lib/python3.12/site-packages (from pandas) (2024.2)\n",
      "Requirement already satisfied: six>=1.5 in /home/cosimo/repos/COMP0189-practical-2025/.venv/lib/python3.12/site-packages (from python-dateutil>=2.7->matplotlib) (1.17.0)\n",
      "Note: you may need to restart the kernel to use updated packages.\n"
     ]
    }
   ],
   "source": [
    "%pip install scikit-learn==1.6.1 matplotlib seaborn pandas"
   ]
  },
  {
   "cell_type": "code",
   "execution_count": 2,
   "metadata": {},
   "outputs": [],
   "source": [
    "from __future__ import annotations"
   ]
  },
  {
   "cell_type": "markdown",
   "metadata": {},
   "source": [
    "We can now load the same adult income dataset used in last week's lab."
   ]
  },
  {
   "cell_type": "code",
   "execution_count": null,
   "metadata": {},
   "outputs": [
    {
     "data": {
      "text/html": [
       "<div>\n",
       "<style scoped>\n",
       "    .dataframe tbody tr th:only-of-type {\n",
       "        vertical-align: middle;\n",
       "    }\n",
       "\n",
       "    .dataframe tbody tr th {\n",
       "        vertical-align: top;\n",
       "    }\n",
       "\n",
       "    .dataframe thead th {\n",
       "        text-align: right;\n",
       "    }\n",
       "</style>\n",
       "<table border=\"1\" class=\"dataframe\">\n",
       "  <thead>\n",
       "    <tr style=\"text-align: right;\">\n",
       "      <th></th>\n",
       "      <th>age</th>\n",
       "      <th>workclass</th>\n",
       "      <th>fnlwgt</th>\n",
       "      <th>education</th>\n",
       "      <th>marital-status</th>\n",
       "      <th>occupation</th>\n",
       "      <th>relationship</th>\n",
       "      <th>race</th>\n",
       "      <th>sex</th>\n",
       "      <th>capital-gain</th>\n",
       "      <th>capital-loss</th>\n",
       "      <th>hours-per-week</th>\n",
       "      <th>native-country</th>\n",
       "    </tr>\n",
       "  </thead>\n",
       "  <tbody>\n",
       "    <tr>\n",
       "      <th>19749</th>\n",
       "      <td>34</td>\n",
       "      <td>Self-emp-not-inc</td>\n",
       "      <td>56460</td>\n",
       "      <td>HS-grad</td>\n",
       "      <td>Married-civ-spouse</td>\n",
       "      <td>Farming-fishing</td>\n",
       "      <td>Wife</td>\n",
       "      <td>White</td>\n",
       "      <td>Female</td>\n",
       "      <td>0</td>\n",
       "      <td>2179</td>\n",
       "      <td>12</td>\n",
       "      <td>United-States</td>\n",
       "    </tr>\n",
       "    <tr>\n",
       "      <th>1216</th>\n",
       "      <td>48</td>\n",
       "      <td>Self-emp-not-inc</td>\n",
       "      <td>243631</td>\n",
       "      <td>Some-college</td>\n",
       "      <td>Married-civ-spouse</td>\n",
       "      <td>Craft-repair</td>\n",
       "      <td>Husband</td>\n",
       "      <td>Amer-Indian-Eskimo</td>\n",
       "      <td>Male</td>\n",
       "      <td>7688</td>\n",
       "      <td>0</td>\n",
       "      <td>40</td>\n",
       "      <td>United-States</td>\n",
       "    </tr>\n",
       "    <tr>\n",
       "      <th>27962</th>\n",
       "      <td>23</td>\n",
       "      <td>State-gov</td>\n",
       "      <td>56402</td>\n",
       "      <td>Some-college</td>\n",
       "      <td>Married-civ-spouse</td>\n",
       "      <td>Prof-specialty</td>\n",
       "      <td>Husband</td>\n",
       "      <td>White</td>\n",
       "      <td>Male</td>\n",
       "      <td>0</td>\n",
       "      <td>0</td>\n",
       "      <td>30</td>\n",
       "      <td>United-States</td>\n",
       "    </tr>\n",
       "    <tr>\n",
       "      <th>23077</th>\n",
       "      <td>56</td>\n",
       "      <td>Local-gov</td>\n",
       "      <td>255406</td>\n",
       "      <td>HS-grad</td>\n",
       "      <td>Divorced</td>\n",
       "      <td>Exec-managerial</td>\n",
       "      <td>Not-in-family</td>\n",
       "      <td>White</td>\n",
       "      <td>Female</td>\n",
       "      <td>0</td>\n",
       "      <td>0</td>\n",
       "      <td>40</td>\n",
       "      <td>United-States</td>\n",
       "    </tr>\n",
       "    <tr>\n",
       "      <th>10180</th>\n",
       "      <td>17</td>\n",
       "      <td>Private</td>\n",
       "      <td>297246</td>\n",
       "      <td>11th</td>\n",
       "      <td>Never-married</td>\n",
       "      <td>Priv-house-serv</td>\n",
       "      <td>Own-child</td>\n",
       "      <td>White</td>\n",
       "      <td>Female</td>\n",
       "      <td>0</td>\n",
       "      <td>0</td>\n",
       "      <td>9</td>\n",
       "      <td>United-States</td>\n",
       "    </tr>\n",
       "    <tr>\n",
       "      <th>...</th>\n",
       "      <td>...</td>\n",
       "      <td>...</td>\n",
       "      <td>...</td>\n",
       "      <td>...</td>\n",
       "      <td>...</td>\n",
       "      <td>...</td>\n",
       "      <td>...</td>\n",
       "      <td>...</td>\n",
       "      <td>...</td>\n",
       "      <td>...</td>\n",
       "      <td>...</td>\n",
       "      <td>...</td>\n",
       "      <td>...</td>\n",
       "    </tr>\n",
       "    <tr>\n",
       "      <th>29802</th>\n",
       "      <td>47</td>\n",
       "      <td>Private</td>\n",
       "      <td>359461</td>\n",
       "      <td>Bachelors</td>\n",
       "      <td>Married-civ-spouse</td>\n",
       "      <td>Craft-repair</td>\n",
       "      <td>Husband</td>\n",
       "      <td>White</td>\n",
       "      <td>Male</td>\n",
       "      <td>0</td>\n",
       "      <td>0</td>\n",
       "      <td>40</td>\n",
       "      <td>United-States</td>\n",
       "    </tr>\n",
       "    <tr>\n",
       "      <th>5390</th>\n",
       "      <td>31</td>\n",
       "      <td>Private</td>\n",
       "      <td>147215</td>\n",
       "      <td>12th</td>\n",
       "      <td>Divorced</td>\n",
       "      <td>Other-service</td>\n",
       "      <td>Unmarried</td>\n",
       "      <td>White</td>\n",
       "      <td>Female</td>\n",
       "      <td>0</td>\n",
       "      <td>0</td>\n",
       "      <td>21</td>\n",
       "      <td>United-States</td>\n",
       "    </tr>\n",
       "    <tr>\n",
       "      <th>860</th>\n",
       "      <td>18</td>\n",
       "      <td>Private</td>\n",
       "      <td>216284</td>\n",
       "      <td>11th</td>\n",
       "      <td>Never-married</td>\n",
       "      <td>Adm-clerical</td>\n",
       "      <td>Own-child</td>\n",
       "      <td>White</td>\n",
       "      <td>Female</td>\n",
       "      <td>0</td>\n",
       "      <td>0</td>\n",
       "      <td>20</td>\n",
       "      <td>United-States</td>\n",
       "    </tr>\n",
       "    <tr>\n",
       "      <th>15795</th>\n",
       "      <td>50</td>\n",
       "      <td>Self-emp-not-inc</td>\n",
       "      <td>54261</td>\n",
       "      <td>HS-grad</td>\n",
       "      <td>Married-civ-spouse</td>\n",
       "      <td>Farming-fishing</td>\n",
       "      <td>Husband</td>\n",
       "      <td>White</td>\n",
       "      <td>Male</td>\n",
       "      <td>0</td>\n",
       "      <td>0</td>\n",
       "      <td>84</td>\n",
       "      <td>United-States</td>\n",
       "    </tr>\n",
       "    <tr>\n",
       "      <th>23654</th>\n",
       "      <td>34</td>\n",
       "      <td>Self-emp-inc</td>\n",
       "      <td>127651</td>\n",
       "      <td>Bachelors</td>\n",
       "      <td>Divorced</td>\n",
       "      <td>Farming-fishing</td>\n",
       "      <td>Not-in-family</td>\n",
       "      <td>White</td>\n",
       "      <td>Male</td>\n",
       "      <td>0</td>\n",
       "      <td>0</td>\n",
       "      <td>60</td>\n",
       "      <td>United-States</td>\n",
       "    </tr>\n",
       "  </tbody>\n",
       "</table>\n",
       "<p>22792 rows × 13 columns</p>\n",
       "</div>"
      ],
      "text/plain": [
       "       age         workclass  fnlwgt     education      marital-status  \\\n",
       "19749   34  Self-emp-not-inc   56460       HS-grad  Married-civ-spouse   \n",
       "1216    48  Self-emp-not-inc  243631  Some-college  Married-civ-spouse   \n",
       "27962   23         State-gov   56402  Some-college  Married-civ-spouse   \n",
       "23077   56         Local-gov  255406       HS-grad            Divorced   \n",
       "10180   17           Private  297246          11th       Never-married   \n",
       "...    ...               ...     ...           ...                 ...   \n",
       "29802   47           Private  359461     Bachelors  Married-civ-spouse   \n",
       "5390    31           Private  147215          12th            Divorced   \n",
       "860     18           Private  216284          11th       Never-married   \n",
       "15795   50  Self-emp-not-inc   54261       HS-grad  Married-civ-spouse   \n",
       "23654   34      Self-emp-inc  127651     Bachelors            Divorced   \n",
       "\n",
       "            occupation   relationship                race     sex  \\\n",
       "19749  Farming-fishing           Wife               White  Female   \n",
       "1216      Craft-repair        Husband  Amer-Indian-Eskimo    Male   \n",
       "27962   Prof-specialty        Husband               White    Male   \n",
       "23077  Exec-managerial  Not-in-family               White  Female   \n",
       "10180  Priv-house-serv      Own-child               White  Female   \n",
       "...                ...            ...                 ...     ...   \n",
       "29802     Craft-repair        Husband               White    Male   \n",
       "5390     Other-service      Unmarried               White  Female   \n",
       "860       Adm-clerical      Own-child               White  Female   \n",
       "15795  Farming-fishing        Husband               White    Male   \n",
       "23654  Farming-fishing  Not-in-family               White    Male   \n",
       "\n",
       "       capital-gain  capital-loss  hours-per-week native-country  \n",
       "19749             0          2179              12  United-States  \n",
       "1216           7688             0              40  United-States  \n",
       "27962             0             0              30  United-States  \n",
       "23077             0             0              40  United-States  \n",
       "10180             0             0               9  United-States  \n",
       "...             ...           ...             ...            ...  \n",
       "29802             0             0              40  United-States  \n",
       "5390              0             0              21  United-States  \n",
       "860               0             0              20  United-States  \n",
       "15795             0             0              84  United-States  \n",
       "23654             0             0              60  United-States  \n",
       "\n",
       "[22792 rows x 13 columns]"
      ]
     },
     "execution_count": 3,
     "metadata": {},
     "output_type": "execute_result"
    }
   ],
   "source": [
    "import pandas as pd\n",
    "import numpy as np\n",
    "import numpy.typing as npt\n",
    "from sklearn.model_selection import train_test_split\n",
    "\n",
    "def load_adult(data_path: str) -> pd.DataFrame:\n",
    "    # Load dataset with specifying ' ?' as missing values\n",
    "    names = ['age','workclass','fnlwgt','education',\n",
    "            'marital-status','occupation','relationship','race','sex',\n",
    "            'capital-gain','capital-loss','hours-per-week','native-country',\n",
    "            'y']\n",
    "    df = pd.read_csv(data_path, delimiter=',', names=names, na_values=' ?')\n",
    "\n",
    "    for col_name in df.columns:\n",
    "        if df[col_name].dtype == object:  # Checking for object type (string in pandas)\n",
    "            df[col_name] = df[col_name].apply(lambda x: x.strip() if isinstance(x, str) else x)\n",
    "    \n",
    "    return df\n",
    "\n",
    "def train_test_split_df(df: pd.DataFrame, test_ratio=0.3, target_col=\"y\", random_state=42) -> tuple[pd.DataFrame, npt.NDArray[np.bool_], pd.DataFrame, npt.NDArray[np.bool_]]:\n",
    "    # Separate features and target\n",
    "    df_data = df.drop(columns=[target_col])\n",
    "    df_target = df[target_col]\n",
    "\n",
    "    # Randomized train-test split with a fixed seed\n",
    "    train_X_df, test_X_df, train_y_df, test_y_df = train_test_split(\n",
    "        df_data, df_target, test_size=test_ratio, random_state=random_state\n",
    "    )\n",
    "\n",
    "    # Convert target variable to binary (assuming it's categorical with \">50K\" and others)\n",
    "    train_y = (train_y_df == \">50K\").to_numpy(dtype=np.bool_)\n",
    "    test_y = (test_y_df == \">50K\").to_numpy(dtype=np.bool_)\n",
    "\n",
    "    return train_X_df, train_y, test_X_df, test_y\n",
    "\n",
    "adult_df = load_adult(\"adult.data\")\n",
    "train_X, train_y, test_X, test_y = train_test_split_df(adult_df)\n",
    "\n",
    "train_X"
   ]
  },
  {
   "cell_type": "markdown",
   "metadata": {},
   "source": [
    "## Part 1: Pipelines\n",
    "\n",
    "This part of the lab focuses on streamlining preprocessing and model training with scikit-learn. We will reimplement the last exercise of last week's lab using a more advanced way of controlling how to process data."
   ]
  },
  {
   "cell_type": "markdown",
   "metadata": {},
   "source": [
    "### Task 1.1: Writing a Pipeline\n",
    "\n",
    "[Pipelines](https://scikit-learn.org/stable/modules/compose.html) are a feature of scikit-learn for combining multiple processing steps together. This is quite useful, for example, when we want to apply a sequence of many pre-processing steps to the same data.\n",
    "\n",
    "In this exercise, we extract the `age` feature from the dataset and add some missing values for the sake of exercise. Use a `Pipeline` to impute the missing values and scale the feature.\n",
    "\n",
    "> You can use the same imputation and scaling operations seen in the previous lab"
   ]
  },
  {
   "cell_type": "code",
   "execution_count": 4,
   "metadata": {},
   "outputs": [
    {
     "data": {
      "image/png": "[encoded data removed]",
      "text/plain": [
       "<Figure size 1000x500 with 2 Axes>"
      ]
     },
     "metadata": {},
     "output_type": "display_data"
    },
    {
     "name": "stdout",
     "output_type": "stream",
     "text": [
      "Original first entry: nan\n",
      "Preprocessed first entry: -0.0\n"
     ]
    }
   ],
   "source": [
    "from sklearn.pipeline import Pipeline\n",
    "from sklearn.impute import SimpleImputer\n",
    "from sklearn.preprocessing import StandardScaler\n",
    "import matplotlib.pyplot as plt\n",
    "\n",
    "# Function for visualising preprocessing results\n",
    "def check_results(feature_name: str, age_original: npt.NDArray, age_preprocessed: npt.NDArray) -> None:\n",
    "    # Plot the data distribution before and after preprocessing\n",
    "    fig, ax = plt.subplots(1, 2, figsize=(10, 5))\n",
    "    fig.suptitle(feature_name)\n",
    "    ax[0].hist(age_original)\n",
    "    ax[0].set_title(\"Original\")\n",
    "    ax[1].hist(age_preprocessed)\n",
    "    ax[1].set_title(\"Preprocessed\")\n",
    "    plt.show()\n",
    "\n",
    "    # Print the value of the first entry before and after preprocessing\n",
    "    print(f\"Original first entry: {age_original.ravel()[0]}\")\n",
    "    print(f\"Preprocessed first entry: {round(age_preprocessed.ravel()[0], 2)}\")\n",
    "\n",
    "# Set the first row of all columns to NaN to simulate missing values\n",
    "train_X.iloc[0] = np.nan\n",
    "test_X.iloc[0] = np.nan\n",
    "\n",
    "# Extract the age feature as a Numpy array\n",
    "age_original = train_X[\"age\"].to_numpy(dtype=np.float32).reshape((len(train_X[\"age\"]), 1))\n",
    "\n",
    "# Create a Pipeline to preprocess the age feature\n",
    "impute_and_scale = Pipeline(\n",
    "    steps=[\n",
    "        (\"imputer\", SimpleImputer(strategy=\"mean\")),  # You can replace with KNNImputer if needed\n",
    "        (\"scaler\", StandardScaler()),\n",
    "    ]\n",
    ")\n",
    "\n",
    "# Fit the pipeline and check results\n",
    "age_preprocessed = impute_and_scale.fit_transform(age_original)\n",
    "check_results(\"Age\", age_original, age_preprocessed)"
   ]
  },
  {
   "cell_type": "markdown",
   "metadata": {},
   "source": [
    "Notice that we can now easily reapply the fitted preprocessing steps to the testing data:"
   ]
  },
  {
   "cell_type": "code",
   "execution_count": 5,
   "metadata": {},
   "outputs": [
    {
     "data": {
      "image/png": "[encoded data removed]",
      "text/plain": [
       "<Figure size 1000x500 with 2 Axes>"
      ]
     },
     "metadata": {},
     "output_type": "display_data"
    },
    {
     "name": "stdout",
     "output_type": "stream",
     "text": [
      "Original first entry: nan\n",
      "Preprocessed first entry: -0.0\n"
     ]
    }
   ],
   "source": [
    "# Extract the age feature from the testing data\n",
    "age_original_test = test_X[\"age\"].to_numpy(dtype=np.float32).reshape((len(test_X[\"age\"]), 1))\n",
    "\n",
    "# Apply the fitted pipeline\n",
    "age_preprocessed_test = impute_and_scale.transform(age_original_test)\n",
    "\n",
    "check_results(\"Age\", age_original_test, age_preprocessed_test)"
   ]
  },
  {
   "cell_type": "markdown",
   "metadata": {},
   "source": [
    "### Task 1.2: Deciding which Pipeline to run\n",
    "\n",
    "In the previous task, we only applied our pipeline to the `age` feature, which we extracted and passed to the fitting function. However, the same imputation and scaling strategy would be suitable for most numerical features in the dataset. By contrast, it would not make sense for categorical features (since they cannot be scaled and cannot be imputed by taking the mean). So we'd like to use the same pipeline for all numerical features, while leaving out categorical ones.\n",
    "\n",
    "Scikit-learn offers a [ColumnTransformer](https://scikit-learn.org/stable/modules/compose.html#columntransformer-for-heterogeneous-data) feature for this purpose. For this exercise, write a ColumnTransformer which takes the whole training dataset, selects only the numerical features and applies the pipeline from the previous cell."
   ]
  },
  {
   "cell_type": "code",
   "execution_count": 6,
   "metadata": {},
   "outputs": [
    {
     "data": {
      "image/png": "[encoded data removed]",
      "text/plain": [
       "<Figure size 1000x500 with 2 Axes>"
      ]
     },
     "metadata": {},
     "output_type": "display_data"
    },
    {
     "name": "stdout",
     "output_type": "stream",
     "text": [
      "Original first entry: nan\n",
      "Preprocessed first entry: -0.0\n"
     ]
    },
    {
     "data": {
      "image/png": "[encoded data removed]",
      "text/plain": [
       "<Figure size 1000x500 with 2 Axes>"
      ]
     },
     "metadata": {},
     "output_type": "display_data"
    },
    {
     "name": "stdout",
     "output_type": "stream",
     "text": [
      "Original first entry: nan\n",
      "Preprocessed first entry: -0.0\n"
     ]
    },
    {
     "data": {
      "image/png": "[encoded data removed]",
      "text/plain": [
       "<Figure size 1000x500 with 2 Axes>"
      ]
     },
     "metadata": {},
     "output_type": "display_data"
    },
    {
     "name": "stdout",
     "output_type": "stream",
     "text": [
      "Original first entry: nan\n",
      "Preprocessed first entry: 0.0\n"
     ]
    },
    {
     "data": {
      "image/png": "[encoded data removed]",
      "text/plain": [
       "<Figure size 1000x500 with 2 Axes>"
      ]
     },
     "metadata": {},
     "output_type": "display_data"
    },
    {
     "name": "stdout",
     "output_type": "stream",
     "text": [
      "Original first entry: nan\n",
      "Preprocessed first entry: 0.0\n"
     ]
    },
    {
     "data": {
      "image/png": "[encoded data removed]",
      "text/plain": [
       "<Figure size 1000x500 with 2 Axes>"
      ]
     },
     "metadata": {},
     "output_type": "display_data"
    },
    {
     "name": "stdout",
     "output_type": "stream",
     "text": [
      "Original first entry: nan\n",
      "Preprocessed first entry: 0.0\n"
     ]
    }
   ],
   "source": [
    "from sklearn.compose import ColumnTransformer\n",
    "\n",
    "# List the features to process\n",
    "non_categorical_features = [\n",
    "    \"age\", \"fnlwgt\", \"capital-gain\", \"capital-loss\", \"hours-per-week\"\n",
    "]\n",
    "\n",
    "# Apply the pipeline using ColumnTransformer\n",
    "preprocessor = ColumnTransformer(\n",
    "    transformers=[\n",
    "        (\"non_categorical_transformer\", impute_and_scale, non_categorical_features),\n",
    "    ]\n",
    ")\n",
    "\n",
    "# Fit the pipeline and check results\n",
    "non_categorical_preprocessed = preprocessor.fit_transform(train_X)\n",
    "\n",
    "for i, feature in enumerate(non_categorical_features):\n",
    "    check_results(feature, train_X[[feature]].to_numpy(), non_categorical_preprocessed[:, i])"
   ]
  },
  {
   "cell_type": "markdown",
   "metadata": {},
   "source": [
    "Applying the fitted pipeline to the testing data is now even easier, as we don't need to manually extract the features we want to preprocess.\n",
    "\n",
    "Use the pipeline to transform the testing data."
   ]
  },
  {
   "cell_type": "code",
   "execution_count": 7,
   "metadata": {},
   "outputs": [
    {
     "data": {
      "image/png": "[encoded data removed]",
      "text/plain": [
       "<Figure size 1000x500 with 2 Axes>"
      ]
     },
     "metadata": {},
     "output_type": "display_data"
    },
    {
     "name": "stdout",
     "output_type": "stream",
     "text": [
      "Original first entry: nan\n",
      "Preprocessed first entry: -0.0\n"
     ]
    },
    {
     "data": {
      "image/png": "[encoded data removed]",
      "text/plain": [
       "<Figure size 1000x500 with 2 Axes>"
      ]
     },
     "metadata": {},
     "output_type": "display_data"
    },
    {
     "name": "stdout",
     "output_type": "stream",
     "text": [
      "Original first entry: nan\n",
      "Preprocessed first entry: -0.0\n"
     ]
    },
    {
     "data": {
      "image/png": "[encoded data removed]",
      "text/plain": [
       "<Figure size 1000x500 with 2 Axes>"
      ]
     },
     "metadata": {},
     "output_type": "display_data"
    },
    {
     "name": "stdout",
     "output_type": "stream",
     "text": [
      "Original first entry: nan\n",
      "Preprocessed first entry: 0.0\n"
     ]
    },
    {
     "data": {
      "image/png": "[encoded data removed]",
      "text/plain": [
       "<Figure size 1000x500 with 2 Axes>"
      ]
     },
     "metadata": {},
     "output_type": "display_data"
    },
    {
     "name": "stdout",
     "output_type": "stream",
     "text": [
      "Original first entry: nan\n",
      "Preprocessed first entry: 0.0\n"
     ]
    },
    {
     "data": {
      "image/png": "[encoded data removed]",
      "text/plain": [
       "<Figure size 1000x500 with 2 Axes>"
      ]
     },
     "metadata": {},
     "output_type": "display_data"
    },
    {
     "name": "stdout",
     "output_type": "stream",
     "text": [
      "Original first entry: nan\n",
      "Preprocessed first entry: 0.0\n"
     ]
    }
   ],
   "source": [
    "non_categorical_preprocessed = preprocessor.transform(test_X)\n",
    "\n",
    "for i, feature in enumerate(non_categorical_features):\n",
    "    check_results(feature, test_X[[feature]].to_numpy(), non_categorical_preprocessed[:, i])"
   ]
  },
  {
   "cell_type": "markdown",
   "metadata": {},
   "source": [
    "### Task 1.3: Preprocessing the whole dataset\n",
    "\n",
    "Now expand the code you've written so far to process all features in the dataset. Apply whichever steps seem reasonable depending on the feature types.\n",
    "\n",
    "> You can reuse the same steps you used in last week's notebook, but use Pipelines to join them"
   ]
  },
  {
   "cell_type": "code",
   "execution_count": 8,
   "metadata": {},
   "outputs": [
    {
     "data": {
      "text/plain": [
       "array([[-5.20724585e-16, -2.75533455e-16,  0.00000000e+00, ...,\n",
       "         0.00000000e+00,  0.00000000e+00,  8.00000000e+00],\n",
       "       [ 6.91210188e-01,  5.10604899e-01,  9.29735791e-01, ...,\n",
       "         0.00000000e+00,  0.00000000e+00,  9.00000000e+00],\n",
       "       [-1.14092657e+00, -1.26194024e+00, -1.46355480e-01, ...,\n",
       "         0.00000000e+00,  0.00000000e+00,  9.00000000e+00],\n",
       "       ...,\n",
       "       [-1.50735392e+00,  2.51703809e-01, -1.46355480e-01, ...,\n",
       "         0.00000000e+00,  0.00000000e+00,  6.00000000e+00],\n",
       "       [ 8.37781128e-01, -1.28220964e+00, -1.46355480e-01, ...,\n",
       "         0.00000000e+00,  0.00000000e+00,  8.00000000e+00],\n",
       "       [-3.34786395e-01, -5.87407619e-01, -1.46355480e-01, ...,\n",
       "         0.00000000e+00,  0.00000000e+00,  1.30000000e+01]],\n",
       "      shape=(22792, 82))"
      ]
     },
     "execution_count": 8,
     "metadata": {},
     "output_type": "execute_result"
    }
   ],
   "source": [
    "from sklearn.preprocessing import OneHotEncoder, OrdinalEncoder\n",
    "\n",
    "# Define the preprocessing for non-categorical features\n",
    "non_categorical_features = [\n",
    "    \"age\", \"fnlwgt\", \"capital-gain\", \"capital-loss\", \"hours-per-week\"\n",
    "]\n",
    "\n",
    "non_categorical_transformer = Pipeline(\n",
    "    steps=[\n",
    "        (\"imputer\", SimpleImputer(strategy=\"mean\")),  # You can replace with KNNImputer if needed\n",
    "        (\"scaler\", StandardScaler()),\n",
    "    ]\n",
    ")\n",
    "\n",
    "# Define the preprocessing for nominal categorical features\n",
    "nominal_categorical_features = [\n",
    "    \"workclass\", \"marital-status\", \"occupation\", \"relationship\", \"race\", \"sex\", \"native-country\"\n",
    "]\n",
    "\n",
    "nominal_categorical_transformer = Pipeline(\n",
    "    steps=[\n",
    "        (\"imputer\", SimpleImputer(strategy=\"most_frequent\")),\n",
    "        (\"onehot\", OneHotEncoder(drop='first', sparse_output=False, handle_unknown=\"ignore\")),\n",
    "    ]\n",
    ")\n",
    "\n",
    "# Define the preprocessing for ordinal categorical features education\n",
    "education_order = ['Preschool', '1st-4th', '5th-6th', '7th-8th', '9th', '10th', '11th',\n",
    "                   '12th', 'HS-grad', 'Some-college', 'Assoc-voc', 'Assoc-acdm', 'Prof-school',\n",
    "                   'Bachelors', 'Masters', 'Doctorate']\n",
    "\n",
    "ordinal_categorical_features = [\"education\"]\n",
    "\n",
    "ordinal_categorical_transformer = Pipeline(\n",
    "    steps=[\n",
    "        (\"imputer\", SimpleImputer(strategy=\"most_frequent\")),\n",
    "        (\"ordinal\", OrdinalEncoder(categories=[education_order],)),\n",
    "    ]\n",
    ")\n",
    "\n",
    "# Assign different preprocessors to different features\n",
    "preprocessor = ColumnTransformer(\n",
    "    transformers=[\n",
    "        (\"num\", non_categorical_transformer, non_categorical_features),\n",
    "        (\"nominal_cat\", nominal_categorical_transformer, nominal_categorical_features),\n",
    "        (\"ordinal_cat\", ordinal_categorical_transformer, ordinal_categorical_features),\n",
    "    ]\n",
    ")\n",
    "\n",
    "# Fit the preprocessing pipeline\n",
    "preprocessor.fit_transform(train_X)"
   ]
  },
  {
   "cell_type": "markdown",
   "metadata": {},
   "source": [
    "### Task 1.4: Joining preprocessing and model training\n",
    "\n",
    "Note that any estimator can be part of a Pipeline - even models. Try to create a new pipeline which combines the `preprocessing_pipeline` from the previous task with an SVM classifier. The resulting pipeline will be able to both fit the preprocessing pipeline and train the model in a single step.\n",
    "\n",
    "> You can use `make_pipeline` to add steps to an existing pipeline"
   ]
  },
  {
   "cell_type": "code",
   "execution_count": 9,
   "metadata": {},
   "outputs": [
    {
     "data": {
      "text/html": [
       "<style>#sk-container-id-1 {\n",
       "  /* Definition of color scheme common for light and dark mode */\n",
       "  --sklearn-color-text: #000;\n",
       "  --sklearn-color-text-muted: #666;\n",
       "  --sklearn-color-line: gray;\n",
       "  /* Definition of color scheme for unfitted estimators */\n",
       "  --sklearn-color-unfitted-level-0: #fff5e6;\n",
       "  --sklearn-color-unfitted-level-1: #f6e4d2;\n",
       "  --sklearn-color-unfitted-level-2: #ffe0b3;\n",
       "  --sklearn-color-unfitted-level-3: chocolate;\n",
       "  /* Definition of color scheme for fitted estimators */\n",
       "  --sklearn-color-fitted-level-0: #f0f8ff;\n",
       "  --sklearn-color-fitted-level-1: #d4ebff;\n",
       "  --sklearn-color-fitted-level-2: #b3dbfd;\n",
       "  --sklearn-color-fitted-level-3: cornflowerblue;\n",
       "\n",
       "  /* Specific color for light theme */\n",
       "  --sklearn-color-text-on-default-background: var(--sg-text-color, var(--theme-code-foreground, var(--jp-content-font-color1, black)));\n",
       "  --sklearn-color-background: var(--sg-background-color, var(--theme-background, var(--jp-layout-color0, white)));\n",
       "  --sklearn-color-border-box: var(--sg-text-color, var(--theme-code-foreground, var(--jp-content-font-color1, black)));\n",
       "  --sklearn-color-icon: #696969;\n",
       "\n",
       "  @media (prefers-color-scheme: dark) {\n",
       "    /* Redefinition of color scheme for dark theme */\n",
       "    --sklearn-color-text-on-default-background: var(--sg-text-color, var(--theme-code-foreground, var(--jp-content-font-color1, white)));\n",
       "    --sklearn-color-background: var(--sg-background-color, var(--theme-background, var(--jp-layout-color0, #111)));\n",
       "    --sklearn-color-border-box: var(--sg-text-color, var(--theme-code-foreground, var(--jp-content-font-color1, white)));\n",
       "    --sklearn-color-icon: #878787;\n",
       "  }\n",
       "}\n",
       "\n",
       "#sk-container-id-1 {\n",
       "  color: var(--sklearn-color-text);\n",
       "}\n",
       "\n",
       "#sk-container-id-1 pre {\n",
       "  padding: 0;\n",
       "}\n",
       "\n",
       "#sk-container-id-1 input.sk-hidden--visually {\n",
       "  border: 0;\n",
       "  clip: rect(1px 1px 1px 1px);\n",
       "  clip: rect(1px, 1px, 1px, 1px);\n",
       "  height: 1px;\n",
       "  margin: -1px;\n",
       "  overflow: hidden;\n",
       "  padding: 0;\n",
       "  position: absolute;\n",
       "  width: 1px;\n",
       "}\n",
       "\n",
       "#sk-container-id-1 div.sk-dashed-wrapped {\n",
       "  border: 1px dashed var(--sklearn-color-line);\n",
       "  margin: 0 0.4em 0.5em 0.4em;\n",
       "  box-sizing: border-box;\n",
       "  padding-bottom: 0.4em;\n",
       "  background-color: var(--sklearn-color-background);\n",
       "}\n",
       "\n",
       "#sk-container-id-1 div.sk-container {\n",
       "  /* jupyter's `normalize.less` sets `[hidden] { display: none; }`\n",
       "     but bootstrap.min.css set `[hidden] { display: none !important; }`\n",
       "     so we also need the `!important` here to be able to override the\n",
       "     default hidden behavior on the sphinx rendered scikit-learn.org.\n",
       "     See: https://github.com/scikit-learn/scikit-learn/issues/21755 */\n",
       "  display: inline-block !important;\n",
       "  position: relative;\n",
       "}\n",
       "\n",
       "#sk-container-id-1 div.sk-text-repr-fallback {\n",
       "  display: none;\n",
       "}\n",
       "\n",
       "div.sk-parallel-item,\n",
       "div.sk-serial,\n",
       "div.sk-item {\n",
       "  /* draw centered vertical line to link estimators */\n",
       "  background-image: linear-gradient(var(--sklearn-color-text-on-default-background), var(--sklearn-color-text-on-default-background));\n",
       "  background-size: 2px 100%;\n",
       "  background-repeat: no-repeat;\n",
       "  background-position: center center;\n",
       "}\n",
       "\n",
       "/* Parallel-specific style estimator block */\n",
       "\n",
       "#sk-container-id-1 div.sk-parallel-item::after {\n",
       "  content: \"\";\n",
       "  width: 100%;\n",
       "  border-bottom: 2px solid var(--sklearn-color-text-on-default-background);\n",
       "  flex-grow: 1;\n",
       "}\n",
       "\n",
       "#sk-container-id-1 div.sk-parallel {\n",
       "  display: flex;\n",
       "  align-items: stretch;\n",
       "  justify-content: center;\n",
       "  background-color: var(--sklearn-color-background);\n",
       "  position: relative;\n",
       "}\n",
       "\n",
       "#sk-container-id-1 div.sk-parallel-item {\n",
       "  display: flex;\n",
       "  flex-direction: column;\n",
       "}\n",
       "\n",
       "#sk-container-id-1 div.sk-parallel-item:first-child::after {\n",
       "  align-self: flex-end;\n",
       "  width: 50%;\n",
       "}\n",
       "\n",
       "#sk-container-id-1 div.sk-parallel-item:last-child::after {\n",
       "  align-self: flex-start;\n",
       "  width: 50%;\n",
       "}\n",
       "\n",
       "#sk-container-id-1 div.sk-parallel-item:only-child::after {\n",
       "  width: 0;\n",
       "}\n",
       "\n",
       "/* Serial-specific style estimator block */\n",
       "\n",
       "#sk-container-id-1 div.sk-serial {\n",
       "  display: flex;\n",
       "  flex-direction: column;\n",
       "  align-items: center;\n",
       "  background-color: var(--sklearn-color-background);\n",
       "  padding-right: 1em;\n",
       "  padding-left: 1em;\n",
       "}\n",
       "\n",
       "\n",
       "/* Toggleable style: style used for estimator/Pipeline/ColumnTransformer box that is\n",
       "clickable and can be expanded/collapsed.\n",
       "- Pipeline and ColumnTransformer use this feature and define the default style\n",
       "- Estimators will overwrite some part of the style using the `sk-estimator` class\n",
       "*/\n",
       "\n",
       "/* Pipeline and ColumnTransformer style (default) */\n",
       "\n",
       "#sk-container-id-1 div.sk-toggleable {\n",
       "  /* Default theme specific background. It is overwritten whether we have a\n",
       "  specific estimator or a Pipeline/ColumnTransformer */\n",
       "  background-color: var(--sklearn-color-background);\n",
       "}\n",
       "\n",
       "/* Toggleable label */\n",
       "#sk-container-id-1 label.sk-toggleable__label {\n",
       "  cursor: pointer;\n",
       "  display: flex;\n",
       "  width: 100%;\n",
       "  margin-bottom: 0;\n",
       "  padding: 0.5em;\n",
       "  box-sizing: border-box;\n",
       "  text-align: center;\n",
       "  align-items: start;\n",
       "  justify-content: space-between;\n",
       "  gap: 0.5em;\n",
       "}\n",
       "\n",
       "#sk-container-id-1 label.sk-toggleable__label .caption {\n",
       "  font-size: 0.6rem;\n",
       "  font-weight: lighter;\n",
       "  color: var(--sklearn-color-text-muted);\n",
       "}\n",
       "\n",
       "#sk-container-id-1 label.sk-toggleable__label-arrow:before {\n",
       "  /* Arrow on the left of the label */\n",
       "  content: \"▸\";\n",
       "  float: left;\n",
       "  margin-right: 0.25em;\n",
       "  color: var(--sklearn-color-icon);\n",
       "}\n",
       "\n",
       "#sk-container-id-1 label.sk-toggleable__label-arrow:hover:before {\n",
       "  color: var(--sklearn-color-text);\n",
       "}\n",
       "\n",
       "/* Toggleable content - dropdown */\n",
       "\n",
       "#sk-container-id-1 div.sk-toggleable__content {\n",
       "  max-height: 0;\n",
       "  max-width: 0;\n",
       "  overflow: hidden;\n",
       "  text-align: left;\n",
       "  /* unfitted */\n",
       "  background-color: var(--sklearn-color-unfitted-level-0);\n",
       "}\n",
       "\n",
       "#sk-container-id-1 div.sk-toggleable__content.fitted {\n",
       "  /* fitted */\n",
       "  background-color: var(--sklearn-color-fitted-level-0);\n",
       "}\n",
       "\n",
       "#sk-container-id-1 div.sk-toggleable__content pre {\n",
       "  margin: 0.2em;\n",
       "  border-radius: 0.25em;\n",
       "  color: var(--sklearn-color-text);\n",
       "  /* unfitted */\n",
       "  background-color: var(--sklearn-color-unfitted-level-0);\n",
       "}\n",
       "\n",
       "#sk-container-id-1 div.sk-toggleable__content.fitted pre {\n",
       "  /* unfitted */\n",
       "  background-color: var(--sklearn-color-fitted-level-0);\n",
       "}\n",
       "\n",
       "#sk-container-id-1 input.sk-toggleable__control:checked~div.sk-toggleable__content {\n",
       "  /* Expand drop-down */\n",
       "  max-height: 200px;\n",
       "  max-width: 100%;\n",
       "  overflow: auto;\n",
       "}\n",
       "\n",
       "#sk-container-id-1 input.sk-toggleable__control:checked~label.sk-toggleable__label-arrow:before {\n",
       "  content: \"▾\";\n",
       "}\n",
       "\n",
       "/* Pipeline/ColumnTransformer-specific style */\n",
       "\n",
       "#sk-container-id-1 div.sk-label input.sk-toggleable__control:checked~label.sk-toggleable__label {\n",
       "  color: var(--sklearn-color-text);\n",
       "  background-color: var(--sklearn-color-unfitted-level-2);\n",
       "}\n",
       "\n",
       "#sk-container-id-1 div.sk-label.fitted input.sk-toggleable__control:checked~label.sk-toggleable__label {\n",
       "  background-color: var(--sklearn-color-fitted-level-2);\n",
       "}\n",
       "\n",
       "/* Estimator-specific style */\n",
       "\n",
       "/* Colorize estimator box */\n",
       "#sk-container-id-1 div.sk-estimator input.sk-toggleable__control:checked~label.sk-toggleable__label {\n",
       "  /* unfitted */\n",
       "  background-color: var(--sklearn-color-unfitted-level-2);\n",
       "}\n",
       "\n",
       "#sk-container-id-1 div.sk-estimator.fitted input.sk-toggleable__control:checked~label.sk-toggleable__label {\n",
       "  /* fitted */\n",
       "  background-color: var(--sklearn-color-fitted-level-2);\n",
       "}\n",
       "\n",
       "#sk-container-id-1 div.sk-label label.sk-toggleable__label,\n",
       "#sk-container-id-1 div.sk-label label {\n",
       "  /* The background is the default theme color */\n",
       "  color: var(--sklearn-color-text-on-default-background);\n",
       "}\n",
       "\n",
       "/* On hover, darken the color of the background */\n",
       "#sk-container-id-1 div.sk-label:hover label.sk-toggleable__label {\n",
       "  color: var(--sklearn-color-text);\n",
       "  background-color: var(--sklearn-color-unfitted-level-2);\n",
       "}\n",
       "\n",
       "/* Label box, darken color on hover, fitted */\n",
       "#sk-container-id-1 div.sk-label.fitted:hover label.sk-toggleable__label.fitted {\n",
       "  color: var(--sklearn-color-text);\n",
       "  background-color: var(--sklearn-color-fitted-level-2);\n",
       "}\n",
       "\n",
       "/* Estimator label */\n",
       "\n",
       "#sk-container-id-1 div.sk-label label {\n",
       "  font-family: monospace;\n",
       "  font-weight: bold;\n",
       "  display: inline-block;\n",
       "  line-height: 1.2em;\n",
       "}\n",
       "\n",
       "#sk-container-id-1 div.sk-label-container {\n",
       "  text-align: center;\n",
       "}\n",
       "\n",
       "/* Estimator-specific */\n",
       "#sk-container-id-1 div.sk-estimator {\n",
       "  font-family: monospace;\n",
       "  border: 1px dotted var(--sklearn-color-border-box);\n",
       "  border-radius: 0.25em;\n",
       "  box-sizing: border-box;\n",
       "  margin-bottom: 0.5em;\n",
       "  /* unfitted */\n",
       "  background-color: var(--sklearn-color-unfitted-level-0);\n",
       "}\n",
       "\n",
       "#sk-container-id-1 div.sk-estimator.fitted {\n",
       "  /* fitted */\n",
       "  background-color: var(--sklearn-color-fitted-level-0);\n",
       "}\n",
       "\n",
       "/* on hover */\n",
       "#sk-container-id-1 div.sk-estimator:hover {\n",
       "  /* unfitted */\n",
       "  background-color: var(--sklearn-color-unfitted-level-2);\n",
       "}\n",
       "\n",
       "#sk-container-id-1 div.sk-estimator.fitted:hover {\n",
       "  /* fitted */\n",
       "  background-color: var(--sklearn-color-fitted-level-2);\n",
       "}\n",
       "\n",
       "/* Specification for estimator info (e.g. \"i\" and \"?\") */\n",
       "\n",
       "/* Common style for \"i\" and \"?\" */\n",
       "\n",
       ".sk-estimator-doc-link,\n",
       "a:link.sk-estimator-doc-link,\n",
       "a:visited.sk-estimator-doc-link {\n",
       "  float: right;\n",
       "  font-size: smaller;\n",
       "  line-height: 1em;\n",
       "  font-family: monospace;\n",
       "  background-color: var(--sklearn-color-background);\n",
       "  border-radius: 1em;\n",
       "  height: 1em;\n",
       "  width: 1em;\n",
       "  text-decoration: none !important;\n",
       "  margin-left: 0.5em;\n",
       "  text-align: center;\n",
       "  /* unfitted */\n",
       "  border: var(--sklearn-color-unfitted-level-1) 1pt solid;\n",
       "  color: var(--sklearn-color-unfitted-level-1);\n",
       "}\n",
       "\n",
       ".sk-estimator-doc-link.fitted,\n",
       "a:link.sk-estimator-doc-link.fitted,\n",
       "a:visited.sk-estimator-doc-link.fitted {\n",
       "  /* fitted */\n",
       "  border: var(--sklearn-color-fitted-level-1) 1pt solid;\n",
       "  color: var(--sklearn-color-fitted-level-1);\n",
       "}\n",
       "\n",
       "/* On hover */\n",
       "div.sk-estimator:hover .sk-estimator-doc-link:hover,\n",
       ".sk-estimator-doc-link:hover,\n",
       "div.sk-label-container:hover .sk-estimator-doc-link:hover,\n",
       ".sk-estimator-doc-link:hover {\n",
       "  /* unfitted */\n",
       "  background-color: var(--sklearn-color-unfitted-level-3);\n",
       "  color: var(--sklearn-color-background);\n",
       "  text-decoration: none;\n",
       "}\n",
       "\n",
       "div.sk-estimator.fitted:hover .sk-estimator-doc-link.fitted:hover,\n",
       ".sk-estimator-doc-link.fitted:hover,\n",
       "div.sk-label-container:hover .sk-estimator-doc-link.fitted:hover,\n",
       ".sk-estimator-doc-link.fitted:hover {\n",
       "  /* fitted */\n",
       "  background-color: var(--sklearn-color-fitted-level-3);\n",
       "  color: var(--sklearn-color-background);\n",
       "  text-decoration: none;\n",
       "}\n",
       "\n",
       "/* Span, style for the box shown on hovering the info icon */\n",
       ".sk-estimator-doc-link span {\n",
       "  display: none;\n",
       "  z-index: 9999;\n",
       "  position: relative;\n",
       "  font-weight: normal;\n",
       "  right: .2ex;\n",
       "  padding: .5ex;\n",
       "  margin: .5ex;\n",
       "  width: min-content;\n",
       "  min-width: 20ex;\n",
       "  max-width: 50ex;\n",
       "  color: var(--sklearn-color-text);\n",
       "  box-shadow: 2pt 2pt 4pt #999;\n",
       "  /* unfitted */\n",
       "  background: var(--sklearn-color-unfitted-level-0);\n",
       "  border: .5pt solid var(--sklearn-color-unfitted-level-3);\n",
       "}\n",
       "\n",
       ".sk-estimator-doc-link.fitted span {\n",
       "  /* fitted */\n",
       "  background: var(--sklearn-color-fitted-level-0);\n",
       "  border: var(--sklearn-color-fitted-level-3);\n",
       "}\n",
       "\n",
       ".sk-estimator-doc-link:hover span {\n",
       "  display: block;\n",
       "}\n",
       "\n",
       "/* \"?\"-specific style due to the `<a>` HTML tag */\n",
       "\n",
       "#sk-container-id-1 a.estimator_doc_link {\n",
       "  float: right;\n",
       "  font-size: 1rem;\n",
       "  line-height: 1em;\n",
       "  font-family: monospace;\n",
       "  background-color: var(--sklearn-color-background);\n",
       "  border-radius: 1rem;\n",
       "  height: 1rem;\n",
       "  width: 1rem;\n",
       "  text-decoration: none;\n",
       "  /* unfitted */\n",
       "  color: var(--sklearn-color-unfitted-level-1);\n",
       "  border: var(--sklearn-color-unfitted-level-1) 1pt solid;\n",
       "}\n",
       "\n",
       "#sk-container-id-1 a.estimator_doc_link.fitted {\n",
       "  /* fitted */\n",
       "  border: var(--sklearn-color-fitted-level-1) 1pt solid;\n",
       "  color: var(--sklearn-color-fitted-level-1);\n",
       "}\n",
       "\n",
       "/* On hover */\n",
       "#sk-container-id-1 a.estimator_doc_link:hover {\n",
       "  /* unfitted */\n",
       "  background-color: var(--sklearn-color-unfitted-level-3);\n",
       "  color: var(--sklearn-color-background);\n",
       "  text-decoration: none;\n",
       "}\n",
       "\n",
       "#sk-container-id-1 a.estimator_doc_link.fitted:hover {\n",
       "  /* fitted */\n",
       "  background-color: var(--sklearn-color-fitted-level-3);\n",
       "}\n",
       "</style><div id=\"sk-container-id-1\" class=\"sk-top-container\"><div class=\"sk-text-repr-fallback\"><pre>Pipeline(steps=[(&#x27;columntransformer&#x27;,\n",
       "                 ColumnTransformer(transformers=[(&#x27;num&#x27;,\n",
       "                                                  Pipeline(steps=[(&#x27;imputer&#x27;,\n",
       "                                                                   SimpleImputer()),\n",
       "                                                                  (&#x27;scaler&#x27;,\n",
       "                                                                   StandardScaler())]),\n",
       "                                                  [&#x27;age&#x27;, &#x27;fnlwgt&#x27;,\n",
       "                                                   &#x27;capital-gain&#x27;,\n",
       "                                                   &#x27;capital-loss&#x27;,\n",
       "                                                   &#x27;hours-per-week&#x27;]),\n",
       "                                                 (&#x27;nominal_cat&#x27;,\n",
       "                                                  Pipeline(steps=[(&#x27;imputer&#x27;,\n",
       "                                                                   SimpleImputer(strategy=&#x27;most_frequent&#x27;)),\n",
       "                                                                  (&#x27;onehot&#x27;,\n",
       "                                                                   OneHotEncoder(drop=&#x27;first&#x27;,\n",
       "                                                                                 handle_unknown=...\n",
       "                                                   &#x27;native-country&#x27;]),\n",
       "                                                 (&#x27;ordinal_cat&#x27;,\n",
       "                                                  Pipeline(steps=[(&#x27;imputer&#x27;,\n",
       "                                                                   SimpleImputer(strategy=&#x27;most_frequent&#x27;)),\n",
       "                                                                  (&#x27;ordinal&#x27;,\n",
       "                                                                   OrdinalEncoder(categories=[[&#x27;Preschool&#x27;,\n",
       "                                                                                               &#x27;1st-4th&#x27;,\n",
       "                                                                                               &#x27;5th-6th&#x27;,\n",
       "                                                                                               &#x27;7th-8th&#x27;,\n",
       "                                                                                               &#x27;9th&#x27;,\n",
       "                                                                                               &#x27;10th&#x27;,\n",
       "                                                                                               &#x27;11th&#x27;,\n",
       "                                                                                               &#x27;12th&#x27;,\n",
       "                                                                                               &#x27;HS-grad&#x27;,\n",
       "                                                                                               &#x27;Some-college&#x27;,\n",
       "                                                                                               &#x27;Assoc-voc&#x27;,\n",
       "                                                                                               &#x27;Assoc-acdm&#x27;,\n",
       "                                                                                               &#x27;Prof-school&#x27;,\n",
       "                                                                                               &#x27;Bachelors&#x27;,\n",
       "                                                                                               &#x27;Masters&#x27;,\n",
       "                                                                                               &#x27;Doctorate&#x27;]]))]),\n",
       "                                                  [&#x27;education&#x27;])])),\n",
       "                (&#x27;svc&#x27;, SVC(random_state=42))])</pre><b>In a Jupyter environment, please rerun this cell to show the HTML representation or trust the notebook. <br />On GitHub, the HTML representation is unable to render, please try loading this page with nbviewer.org.</b></div><div class=\"sk-container\" hidden><div class=\"sk-item sk-dashed-wrapped\"><div class=\"sk-label-container\"><div class=\"sk-label fitted sk-toggleable\"><input class=\"sk-toggleable__control sk-hidden--visually\" id=\"sk-estimator-id-1\" type=\"checkbox\" ><label for=\"sk-estimator-id-1\" class=\"sk-toggleable__label fitted sk-toggleable__label-arrow\"><div><div>Pipeline</div></div><div><a class=\"sk-estimator-doc-link fitted\" rel=\"noreferrer\" target=\"_blank\" href=\"https://scikit-learn.org/1.6/modules/generated/sklearn.pipeline.Pipeline.html\">?<span>Documentation for Pipeline</span></a><span class=\"sk-estimator-doc-link fitted\">i<span>Fitted</span></span></div></label><div class=\"sk-toggleable__content fitted\"><pre>Pipeline(steps=[(&#x27;columntransformer&#x27;,\n",
       "                 ColumnTransformer(transformers=[(&#x27;num&#x27;,\n",
       "                                                  Pipeline(steps=[(&#x27;imputer&#x27;,\n",
       "                                                                   SimpleImputer()),\n",
       "                                                                  (&#x27;scaler&#x27;,\n",
       "                                                                   StandardScaler())]),\n",
       "                                                  [&#x27;age&#x27;, &#x27;fnlwgt&#x27;,\n",
       "                                                   &#x27;capital-gain&#x27;,\n",
       "                                                   &#x27;capital-loss&#x27;,\n",
       "                                                   &#x27;hours-per-week&#x27;]),\n",
       "                                                 (&#x27;nominal_cat&#x27;,\n",
       "                                                  Pipeline(steps=[(&#x27;imputer&#x27;,\n",
       "                                                                   SimpleImputer(strategy=&#x27;most_frequent&#x27;)),\n",
       "                                                                  (&#x27;onehot&#x27;,\n",
       "                                                                   OneHotEncoder(drop=&#x27;first&#x27;,\n",
       "                                                                                 handle_unknown=...\n",
       "                                                   &#x27;native-country&#x27;]),\n",
       "                                                 (&#x27;ordinal_cat&#x27;,\n",
       "                                                  Pipeline(steps=[(&#x27;imputer&#x27;,\n",
       "                                                                   SimpleImputer(strategy=&#x27;most_frequent&#x27;)),\n",
       "                                                                  (&#x27;ordinal&#x27;,\n",
       "                                                                   OrdinalEncoder(categories=[[&#x27;Preschool&#x27;,\n",
       "                                                                                               &#x27;1st-4th&#x27;,\n",
       "                                                                                               &#x27;5th-6th&#x27;,\n",
       "                                                                                               &#x27;7th-8th&#x27;,\n",
       "                                                                                               &#x27;9th&#x27;,\n",
       "                                                                                               &#x27;10th&#x27;,\n",
       "                                                                                               &#x27;11th&#x27;,\n",
       "                                                                                               &#x27;12th&#x27;,\n",
       "                                                                                               &#x27;HS-grad&#x27;,\n",
       "                                                                                               &#x27;Some-college&#x27;,\n",
       "                                                                                               &#x27;Assoc-voc&#x27;,\n",
       "                                                                                               &#x27;Assoc-acdm&#x27;,\n",
       "                                                                                               &#x27;Prof-school&#x27;,\n",
       "                                                                                               &#x27;Bachelors&#x27;,\n",
       "                                                                                               &#x27;Masters&#x27;,\n",
       "                                                                                               &#x27;Doctorate&#x27;]]))]),\n",
       "                                                  [&#x27;education&#x27;])])),\n",
       "                (&#x27;svc&#x27;, SVC(random_state=42))])</pre></div> </div></div><div class=\"sk-serial\"><div class=\"sk-item sk-dashed-wrapped\"><div class=\"sk-label-container\"><div class=\"sk-label fitted sk-toggleable\"><input class=\"sk-toggleable__control sk-hidden--visually\" id=\"sk-estimator-id-2\" type=\"checkbox\" ><label for=\"sk-estimator-id-2\" class=\"sk-toggleable__label fitted sk-toggleable__label-arrow\"><div><div>columntransformer: ColumnTransformer</div></div><div><a class=\"sk-estimator-doc-link fitted\" rel=\"noreferrer\" target=\"_blank\" href=\"https://scikit-learn.org/1.6/modules/generated/sklearn.compose.ColumnTransformer.html\">?<span>Documentation for columntransformer: ColumnTransformer</span></a></div></label><div class=\"sk-toggleable__content fitted\"><pre>ColumnTransformer(transformers=[(&#x27;num&#x27;,\n",
       "                                 Pipeline(steps=[(&#x27;imputer&#x27;, SimpleImputer()),\n",
       "                                                 (&#x27;scaler&#x27;, StandardScaler())]),\n",
       "                                 [&#x27;age&#x27;, &#x27;fnlwgt&#x27;, &#x27;capital-gain&#x27;,\n",
       "                                  &#x27;capital-loss&#x27;, &#x27;hours-per-week&#x27;]),\n",
       "                                (&#x27;nominal_cat&#x27;,\n",
       "                                 Pipeline(steps=[(&#x27;imputer&#x27;,\n",
       "                                                  SimpleImputer(strategy=&#x27;most_frequent&#x27;)),\n",
       "                                                 (&#x27;onehot&#x27;,\n",
       "                                                  OneHotEncoder(drop=&#x27;first&#x27;,\n",
       "                                                                handle_unknown=&#x27;ignore&#x27;,\n",
       "                                                                sparse_output=False))]),\n",
       "                                 [&#x27;wo...\n",
       "                                  &#x27;relationship&#x27;, &#x27;race&#x27;, &#x27;sex&#x27;,\n",
       "                                  &#x27;native-country&#x27;]),\n",
       "                                (&#x27;ordinal_cat&#x27;,\n",
       "                                 Pipeline(steps=[(&#x27;imputer&#x27;,\n",
       "                                                  SimpleImputer(strategy=&#x27;most_frequent&#x27;)),\n",
       "                                                 (&#x27;ordinal&#x27;,\n",
       "                                                  OrdinalEncoder(categories=[[&#x27;Preschool&#x27;,\n",
       "                                                                              &#x27;1st-4th&#x27;,\n",
       "                                                                              &#x27;5th-6th&#x27;,\n",
       "                                                                              &#x27;7th-8th&#x27;,\n",
       "                                                                              &#x27;9th&#x27;,\n",
       "                                                                              &#x27;10th&#x27;,\n",
       "                                                                              &#x27;11th&#x27;,\n",
       "                                                                              &#x27;12th&#x27;,\n",
       "                                                                              &#x27;HS-grad&#x27;,\n",
       "                                                                              &#x27;Some-college&#x27;,\n",
       "                                                                              &#x27;Assoc-voc&#x27;,\n",
       "                                                                              &#x27;Assoc-acdm&#x27;,\n",
       "                                                                              &#x27;Prof-school&#x27;,\n",
       "                                                                              &#x27;Bachelors&#x27;,\n",
       "                                                                              &#x27;Masters&#x27;,\n",
       "                                                                              &#x27;Doctorate&#x27;]]))]),\n",
       "                                 [&#x27;education&#x27;])])</pre></div> </div></div><div class=\"sk-parallel\"><div class=\"sk-parallel-item\"><div class=\"sk-item\"><div class=\"sk-label-container\"><div class=\"sk-label fitted sk-toggleable\"><input class=\"sk-toggleable__control sk-hidden--visually\" id=\"sk-estimator-id-3\" type=\"checkbox\" ><label for=\"sk-estimator-id-3\" class=\"sk-toggleable__label fitted sk-toggleable__label-arrow\"><div><div>num</div></div></label><div class=\"sk-toggleable__content fitted\"><pre>[&#x27;age&#x27;, &#x27;fnlwgt&#x27;, &#x27;capital-gain&#x27;, &#x27;capital-loss&#x27;, &#x27;hours-per-week&#x27;]</pre></div> </div></div><div class=\"sk-serial\"><div class=\"sk-item\"><div class=\"sk-serial\"><div class=\"sk-item\"><div class=\"sk-estimator fitted sk-toggleable\"><input class=\"sk-toggleable__control sk-hidden--visually\" id=\"sk-estimator-id-4\" type=\"checkbox\" ><label for=\"sk-estimator-id-4\" class=\"sk-toggleable__label fitted sk-toggleable__label-arrow\"><div><div>SimpleImputer</div></div><div><a class=\"sk-estimator-doc-link fitted\" rel=\"noreferrer\" target=\"_blank\" href=\"https://scikit-learn.org/1.6/modules/generated/sklearn.impute.SimpleImputer.html\">?<span>Documentation for SimpleImputer</span></a></div></label><div class=\"sk-toggleable__content fitted\"><pre>SimpleImputer()</pre></div> </div></div><div class=\"sk-item\"><div class=\"sk-estimator fitted sk-toggleable\"><input class=\"sk-toggleable__control sk-hidden--visually\" id=\"sk-estimator-id-5\" type=\"checkbox\" ><label for=\"sk-estimator-id-5\" class=\"sk-toggleable__label fitted sk-toggleable__label-arrow\"><div><div>StandardScaler</div></div><div><a class=\"sk-estimator-doc-link fitted\" rel=\"noreferrer\" target=\"_blank\" href=\"https://scikit-learn.org/1.6/modules/generated/sklearn.preprocessing.StandardScaler.html\">?<span>Documentation for StandardScaler</span></a></div></label><div class=\"sk-toggleable__content fitted\"><pre>StandardScaler()</pre></div> </div></div></div></div></div></div></div><div class=\"sk-parallel-item\"><div class=\"sk-item\"><div class=\"sk-label-container\"><div class=\"sk-label fitted sk-toggleable\"><input class=\"sk-toggleable__control sk-hidden--visually\" id=\"sk-estimator-id-6\" type=\"checkbox\" ><label for=\"sk-estimator-id-6\" class=\"sk-toggleable__label fitted sk-toggleable__label-arrow\"><div><div>nominal_cat</div></div></label><div class=\"sk-toggleable__content fitted\"><pre>[&#x27;workclass&#x27;, &#x27;marital-status&#x27;, &#x27;occupation&#x27;, &#x27;relationship&#x27;, &#x27;race&#x27;, &#x27;sex&#x27;, &#x27;native-country&#x27;]</pre></div> </div></div><div class=\"sk-serial\"><div class=\"sk-item\"><div class=\"sk-serial\"><div class=\"sk-item\"><div class=\"sk-estimator fitted sk-toggleable\"><input class=\"sk-toggleable__control sk-hidden--visually\" id=\"sk-estimator-id-7\" type=\"checkbox\" ><label for=\"sk-estimator-id-7\" class=\"sk-toggleable__label fitted sk-toggleable__label-arrow\"><div><div>SimpleImputer</div></div><div><a class=\"sk-estimator-doc-link fitted\" rel=\"noreferrer\" target=\"_blank\" href=\"https://scikit-learn.org/1.6/modules/generated/sklearn.impute.SimpleImputer.html\">?<span>Documentation for SimpleImputer</span></a></div></label><div class=\"sk-toggleable__content fitted\"><pre>SimpleImputer(strategy=&#x27;most_frequent&#x27;)</pre></div> </div></div><div class=\"sk-item\"><div class=\"sk-estimator fitted sk-toggleable\"><input class=\"sk-toggleable__control sk-hidden--visually\" id=\"sk-estimator-id-8\" type=\"checkbox\" ><label for=\"sk-estimator-id-8\" class=\"sk-toggleable__label fitted sk-toggleable__label-arrow\"><div><div>OneHotEncoder</div></div><div><a class=\"sk-estimator-doc-link fitted\" rel=\"noreferrer\" target=\"_blank\" href=\"https://scikit-learn.org/1.6/modules/generated/sklearn.preprocessing.OneHotEncoder.html\">?<span>Documentation for OneHotEncoder</span></a></div></label><div class=\"sk-toggleable__content fitted\"><pre>OneHotEncoder(drop=&#x27;first&#x27;, handle_unknown=&#x27;ignore&#x27;, sparse_output=False)</pre></div> </div></div></div></div></div></div></div><div class=\"sk-parallel-item\"><div class=\"sk-item\"><div class=\"sk-label-container\"><div class=\"sk-label fitted sk-toggleable\"><input class=\"sk-toggleable__control sk-hidden--visually\" id=\"sk-estimator-id-9\" type=\"checkbox\" ><label for=\"sk-estimator-id-9\" class=\"sk-toggleable__label fitted sk-toggleable__label-arrow\"><div><div>ordinal_cat</div></div></label><div class=\"sk-toggleable__content fitted\"><pre>[&#x27;education&#x27;]</pre></div> </div></div><div class=\"sk-serial\"><div class=\"sk-item\"><div class=\"sk-serial\"><div class=\"sk-item\"><div class=\"sk-estimator fitted sk-toggleable\"><input class=\"sk-toggleable__control sk-hidden--visually\" id=\"sk-estimator-id-10\" type=\"checkbox\" ><label for=\"sk-estimator-id-10\" class=\"sk-toggleable__label fitted sk-toggleable__label-arrow\"><div><div>SimpleImputer</div></div><div><a class=\"sk-estimator-doc-link fitted\" rel=\"noreferrer\" target=\"_blank\" href=\"https://scikit-learn.org/1.6/modules/generated/sklearn.impute.SimpleImputer.html\">?<span>Documentation for SimpleImputer</span></a></div></label><div class=\"sk-toggleable__content fitted\"><pre>SimpleImputer(strategy=&#x27;most_frequent&#x27;)</pre></div> </div></div><div class=\"sk-item\"><div class=\"sk-estimator fitted sk-toggleable\"><input class=\"sk-toggleable__control sk-hidden--visually\" id=\"sk-estimator-id-11\" type=\"checkbox\" ><label for=\"sk-estimator-id-11\" class=\"sk-toggleable__label fitted sk-toggleable__label-arrow\"><div><div>OrdinalEncoder</div></div><div><a class=\"sk-estimator-doc-link fitted\" rel=\"noreferrer\" target=\"_blank\" href=\"https://scikit-learn.org/1.6/modules/generated/sklearn.preprocessing.OrdinalEncoder.html\">?<span>Documentation for OrdinalEncoder</span></a></div></label><div class=\"sk-toggleable__content fitted\"><pre>OrdinalEncoder(categories=[[&#x27;Preschool&#x27;, &#x27;1st-4th&#x27;, &#x27;5th-6th&#x27;, &#x27;7th-8th&#x27;, &#x27;9th&#x27;,\n",
       "                            &#x27;10th&#x27;, &#x27;11th&#x27;, &#x27;12th&#x27;, &#x27;HS-grad&#x27;, &#x27;Some-college&#x27;,\n",
       "                            &#x27;Assoc-voc&#x27;, &#x27;Assoc-acdm&#x27;, &#x27;Prof-school&#x27;,\n",
       "                            &#x27;Bachelors&#x27;, &#x27;Masters&#x27;, &#x27;Doctorate&#x27;]])</pre></div> </div></div></div></div></div></div></div></div></div><div class=\"sk-item\"><div class=\"sk-estimator fitted sk-toggleable\"><input class=\"sk-toggleable__control sk-hidden--visually\" id=\"sk-estimator-id-12\" type=\"checkbox\" ><label for=\"sk-estimator-id-12\" class=\"sk-toggleable__label fitted sk-toggleable__label-arrow\"><div><div>SVC</div></div><div><a class=\"sk-estimator-doc-link fitted\" rel=\"noreferrer\" target=\"_blank\" href=\"https://scikit-learn.org/1.6/modules/generated/sklearn.svm.SVC.html\">?<span>Documentation for SVC</span></a></div></label><div class=\"sk-toggleable__content fitted\"><pre>SVC(random_state=42)</pre></div> </div></div></div></div></div></div>"
      ],
      "text/plain": [
       "Pipeline(steps=[('columntransformer',\n",
       "                 ColumnTransformer(transformers=[('num',\n",
       "                                                  Pipeline(steps=[('imputer',\n",
       "                                                                   SimpleImputer()),\n",
       "                                                                  ('scaler',\n",
       "                                                                   StandardScaler())]),\n",
       "                                                  ['age', 'fnlwgt',\n",
       "                                                   'capital-gain',\n",
       "                                                   'capital-loss',\n",
       "                                                   'hours-per-week']),\n",
       "                                                 ('nominal_cat',\n",
       "                                                  Pipeline(steps=[('imputer',\n",
       "                                                                   SimpleImputer(strategy='most_frequent')),\n",
       "                                                                  ('onehot',\n",
       "                                                                   OneHotEncoder(drop='first',\n",
       "                                                                                 handle_unknown=...\n",
       "                                                   'native-country']),\n",
       "                                                 ('ordinal_cat',\n",
       "                                                  Pipeline(steps=[('imputer',\n",
       "                                                                   SimpleImputer(strategy='most_frequent')),\n",
       "                                                                  ('ordinal',\n",
       "                                                                   OrdinalEncoder(categories=[['Preschool',\n",
       "                                                                                               '1st-4th',\n",
       "                                                                                               '5th-6th',\n",
       "                                                                                               '7th-8th',\n",
       "                                                                                               '9th',\n",
       "                                                                                               '10th',\n",
       "                                                                                               '11th',\n",
       "                                                                                               '12th',\n",
       "                                                                                               'HS-grad',\n",
       "                                                                                               'Some-college',\n",
       "                                                                                               'Assoc-voc',\n",
       "                                                                                               'Assoc-acdm',\n",
       "                                                                                               'Prof-school',\n",
       "                                                                                               'Bachelors',\n",
       "                                                                                               'Masters',\n",
       "                                                                                               'Doctorate']]))]),\n",
       "                                                  ['education'])])),\n",
       "                ('svc', SVC(random_state=42))])"
      ]
     },
     "execution_count": 9,
     "metadata": {},
     "output_type": "execute_result"
    }
   ],
   "source": [
    "from sklearn.pipeline import make_pipeline\n",
    "from sklearn.svm import SVC\n",
    "\n",
    "whole_pipeline = make_pipeline(preprocessor, SVC(random_state=42))\n",
    "whole_pipeline.fit(train_X, train_y)"
   ]
  },
  {
   "cell_type": "markdown",
   "metadata": {},
   "source": [
    "Now use the fitted pipeline to preprocess the test data and predict results in a single step."
   ]
  },
  {
   "cell_type": "code",
   "execution_count": 10,
   "metadata": {},
   "outputs": [
    {
     "data": {
      "text/plain": [
       "0.8522878493192753"
      ]
     },
     "execution_count": 10,
     "metadata": {},
     "output_type": "execute_result"
    }
   ],
   "source": [
    "from sklearn.metrics import accuracy_score\n",
    "\n",
    "pred_y = whole_pipeline.predict(test_X)\n",
    "accuracy_score(test_y, pred_y)"
   ]
  },
  {
   "cell_type": "markdown",
   "metadata": {},
   "source": [
    "## Part 2: Cross Validation (CV)"
   ]
  },
  {
   "cell_type": "markdown",
   "metadata": {},
   "source": [
    "scikit-learn provides a nice visualisation of various cross validation methods.\n",
    "This notebook focuses on different cross validation strategies and how to account for data structure during cross-validation.\n",
    "\n",
    "\n",
    "Visit: https://scikit-learn.org/stable/auto_examples/model_selection/plot_cv_indices.html#visualizing-cross-validation-behavior-in-scikit-learn\n",
    "\n",
    "![kfold](https://scikit-learn.org/stable/_images/sphx_glr_plot_cv_indices_006.png)\n",
    "![stra-kfold](https://scikit-learn.org/stable/_images/sphx_glr_plot_cv_indices_003.png)\n",
    "![group-kfold](https://scikit-learn.org/stable/_images/sphx_glr_plot_cv_indices_004.png)\n",
    "![stra-group-kfold](https://scikit-learn.org/stable/_images/sphx_glr_plot_cv_indices_010.png)"
   ]
  },
  {
   "cell_type": "code",
   "execution_count": 19,
   "metadata": {},
   "outputs": [],
   "source": [
    "from sklearn.model_selection import (\n",
    "    KFold,\n",
    "    StratifiedKFold,\n",
    "    GroupKFold,\n",
    "    StratifiedGroupKFold,\n",
    "    GridSearchCV,\n",
    ")\n",
    "from sklearn.model_selection import cross_val_score\n",
    "from sklearn.svm import SVC\n",
    "from sklearn.metrics import accuracy_score\n",
    "import numpy as np\n",
    "\n",
    "\n",
    "def perform_cv(X_train: pd.DataFrame, y_train: npt.NDArray, pipeline: Pipeline, cv_strategy, groups=None) -> tuple[float, float]:\n",
    "    ''' \n",
    "    Return the mean accuracy and its standard deviation\n",
    "    when fitting the given pipeline across several cross-validation folds,\n",
    "    according to the given CV strategy\n",
    "    '''\n",
    "\n",
    "    scores = cross_val_score(\n",
    "        pipeline,\n",
    "        X_train,\n",
    "        y_train,\n",
    "        cv=cv_strategy,\n",
    "        groups=groups,\n",
    "        n_jobs=-1,\n",
    "        scoring='accuracy'\n",
    "    )\n",
    "    \n",
    "    return scores.mean(), scores.std()"
   ]
  },
  {
   "cell_type": "markdown",
   "metadata": {},
   "source": [
    "### Task 5: Cross-validation for hyperparameter optimisation\n",
    "Now apply cross-validation to the train set for optimizing the models hyperparameters. After identifying the best hyperparameter, measure the performance on the test data by training the models on the training data using the optimal hyperparameter. Print the average cross-validation score, the best cross-validation score, the best hyperparameter and the test-score.\n",
    "\n",
    " - Is there a difference between the average cross-validation score, the best cross-validation score and the test-score?\n",
    "\n",
    "Note: remember that the pre-processing steps, including data centering and scaling should be embedded in the CV."
   ]
  },
  {
   "cell_type": "code",
   "execution_count": 18,
   "metadata": {},
   "outputs": [
    {
     "name": "stderr",
     "output_type": "stream",
     "text": [
      "/home/cosimo/repos/COMP0189-practical-2025/.venv/lib/python3.12/site-packages/sklearn/preprocessing/_encoders.py:246: UserWarning: Found unknown categories in columns [6] during transform. These unknown categories will be encoded as all zeros\n",
      "  warnings.warn(\n"
     ]
    },
    {
     "name": "stdout",
     "output_type": "stream",
     "text": [
      "SVC (C=0.1, kernel=linear): 0.850 (+/- 0.001)\n"
     ]
    },
    {
     "name": "stderr",
     "output_type": "stream",
     "text": [
      "/home/cosimo/repos/COMP0189-practical-2025/.venv/lib/python3.12/site-packages/sklearn/preprocessing/_encoders.py:246: UserWarning: Found unknown categories in columns [6] during transform. These unknown categories will be encoded as all zeros\n",
      "  warnings.warn(\n"
     ]
    },
    {
     "name": "stdout",
     "output_type": "stream",
     "text": [
      "SVC (C=0.1, kernel=rbf): 0.833 (+/- 0.004)\n"
     ]
    },
    {
     "name": "stderr",
     "output_type": "stream",
     "text": [
      "/home/cosimo/repos/COMP0189-practical-2025/.venv/lib/python3.12/site-packages/sklearn/preprocessing/_encoders.py:246: UserWarning: Found unknown categories in columns [6] during transform. These unknown categories will be encoded as all zeros\n",
      "  warnings.warn(\n"
     ]
    },
    {
     "name": "stdout",
     "output_type": "stream",
     "text": [
      "SVC (C=0.5, kernel=linear): 0.851 (+/- 0.000)\n"
     ]
    },
    {
     "name": "stderr",
     "output_type": "stream",
     "text": [
      "/home/cosimo/repos/COMP0189-practical-2025/.venv/lib/python3.12/site-packages/sklearn/preprocessing/_encoders.py:246: UserWarning: Found unknown categories in columns [6] during transform. These unknown categories will be encoded as all zeros\n",
      "  warnings.warn(\n"
     ]
    },
    {
     "name": "stdout",
     "output_type": "stream",
     "text": [
      "SVC (C=0.5, kernel=rbf): 0.846 (+/- 0.003)\n"
     ]
    },
    {
     "name": "stderr",
     "output_type": "stream",
     "text": [
      "/home/cosimo/repos/COMP0189-practical-2025/.venv/lib/python3.12/site-packages/sklearn/preprocessing/_encoders.py:246: UserWarning: Found unknown categories in columns [6] during transform. These unknown categories will be encoded as all zeros\n",
      "  warnings.warn(\n"
     ]
    },
    {
     "name": "stdout",
     "output_type": "stream",
     "text": [
      "SVC (C=1.0, kernel=linear): 0.851 (+/- 0.000)\n"
     ]
    },
    {
     "name": "stderr",
     "output_type": "stream",
     "text": [
      "/home/cosimo/repos/COMP0189-practical-2025/.venv/lib/python3.12/site-packages/sklearn/preprocessing/_encoders.py:246: UserWarning: Found unknown categories in columns [6] during transform. These unknown categories will be encoded as all zeros\n",
      "  warnings.warn(\n"
     ]
    },
    {
     "name": "stdout",
     "output_type": "stream",
     "text": [
      "SVC (C=1.0, kernel=rbf): 0.848 (+/- 0.002)\n",
      "\n",
      "Best parameters: C=1.0, kernel=linear\n",
      "\n",
      "Test set accuracy: 0.852\n",
      "Best CV score: 0.851\n",
      "Average CV score: 0.846\n"
     ]
    }
   ],
   "source": [
    "############## Step 1: Cross-Validation for Hyperparameter Tuning ##############\n",
    "# Define hyperparameter search space\n",
    "C_values = [0.1, 0.5, 1.0]  # Regularization parameter\n",
    "kernel_values = ['linear', 'rbf']  # Kernel types\n",
    "cv_strategy = KFold(n_splits=2)  # 2-fold cross-validation\n",
    "\n",
    "# Try all combinations and store results\n",
    "svc_cv_results = []\n",
    "for C in C_values:\n",
    "    for kernel in kernel_values:\n",
    "        # Create pipeline with preprocessing and model\n",
    "        svc_model = make_pipeline(preprocessor, SVC(random_state=42, kernel=kernel, C=C))\n",
    "        # Get cross-validation scores\n",
    "        mean_score, std_score = perform_cv(train_X, train_y, svc_model, cv_strategy)\n",
    "        svc_cv_results.append((C, kernel, mean_score, std_score))\n",
    "        print(f\"SVC (C={C}, kernel={kernel}): {mean_score:.3f} (+/- {std_score:.3f})\")\n",
    "\n",
    "############## Step 2: Train Final Model with Best Parameters ##############\n",
    "# Find best parameters based on CV results\n",
    "best_svc_params = max(svc_cv_results, key=lambda x: x[2])\n",
    "print(f\"\\nBest parameters: C={best_svc_params[0]}, kernel={best_svc_params[1]}\")\n",
    "\n",
    "# Create and train final model with best parameters\n",
    "best_svc = make_pipeline(preprocessor, SVC(\n",
    "    C=best_svc_params[0],\n",
    "    kernel=best_svc_params[1],\n",
    "    random_state=42\n",
    "))\n",
    "best_svc.fit(train_X, train_y)\n",
    "\n",
    "############## Step 3: Evaluate on Test Set ##############\n",
    "cv_scores = np.array([score for _, _, score, _ in svc_cv_results])\n",
    "test_score = best_svc.score(test_X, test_y)\n",
    "print(f\"\\nTest set accuracy: {test_score:.3f}\")\n",
    "print(f\"Best CV score: {np.max(cv_scores):.3f}\")\n",
    "print(f\"Average CV score: {np.mean(cv_scores):.3f}\")"
   ]
  },
  {
   "cell_type": "markdown",
   "metadata": {},
   "source": [
    "#### Task 5-1: Plotting model performance\n",
    "Plot the model performance (mean accuracy and SD) for different hyper-parameter values.\n",
    "- How does the accuracy vary as function of the hyperparameter?"
   ]
  },
  {
   "cell_type": "code",
   "execution_count": 41,
   "metadata": {},
   "outputs": [
    {
     "data": {
      "image/png": "[encoded data removed]",
      "text/plain": [
       "<Figure size 1200x500 with 1 Axes>"
      ]
     },
     "metadata": {},
     "output_type": "display_data"
    },
    {
     "name": "stdout",
     "output_type": "stream",
     "text": [
      "\n",
      "Best Parameters:\n",
      "SVC:\n",
      "C=1.0, kernel=linear\n",
      "Accuracy: 0.851 ± 0.000\n"
     ]
    }
   ],
   "source": [
    "import matplotlib.pyplot as plt\n",
    "import seaborn as sns\n",
    "\n",
    "# Set style for better visualization\n",
    "#plt.style.use('seaborn')\n",
    "\n",
    "# 1. SVC Visualization\n",
    "plt.figure(figsize=(12, 5))\n",
    "\n",
    "# Create subplot for SVC\n",
    "plt.subplot(1, 2, 1)\n",
    "svc_results_df = pd.DataFrame(svc_cv_results, \n",
    "                            columns=['C', 'kernel', 'accuracy', 'std'])\n",
    "\n",
    "# Plot for different kernels\n",
    "for kernel in kernel_values:\n",
    "    kernel_data = svc_results_df[svc_results_df['kernel'] == kernel]\n",
    "    plt.errorbar(kernel_data['C'], kernel_data['accuracy'], \n",
    "                yerr=kernel_data['std'], \n",
    "                fmt='o-', \n",
    "                label=f'kernel={kernel}',\n",
    "                capsize=5)\n",
    "\n",
    "plt.xscale('log')\n",
    "plt.xlabel('C parameter (log scale)')\n",
    "plt.ylabel('Cross-validation Accuracy')\n",
    "plt.title('SVC: Accuracy vs C Parameter')\n",
    "plt.legend()\n",
    "plt.grid(True)\n",
    "\n",
    "\n",
    "\n",
    "# Adjust layout and display\n",
    "plt.tight_layout()\n",
    "plt.show()\n",
    "\n",
    "# Print best parameters and their corresponding accuracies\n",
    "print(\"\\nBest Parameters:\")\n",
    "print(\"SVC:\")\n",
    "best_svc_result = svc_results_df.loc[svc_results_df['accuracy'].idxmax()]\n",
    "print(f\"C={best_svc_result['C']}, kernel={best_svc_result['kernel']}\")\n",
    "print(f\"Accuracy: {best_svc_result['accuracy']:.3f} ± {best_svc_result['std']:.3f}\")\n",
    "\n"
   ]
  },
  {
   "cell_type": "markdown",
   "metadata": {},
   "source": [
    "### Task 6: Group Stratified cross-validation\n",
    "Repeat task 5 using groups stratified CV with k=5 and sex as the group variable. Centre and scale the data before training the models. Print the average cross-validation score, the best cross-validation score, the best hyperparameter and the test-score.\n",
    "\n",
    "- Did the performances changes with the group stratified CV?"
   ]
  },
  {
   "cell_type": "code",
   "execution_count": 33,
   "metadata": {},
   "outputs": [
    {
     "name": "stderr",
     "output_type": "stream",
     "text": [
      "/home/cosimo/repos/COMP0189-practical-2025/.venv/lib/python3.12/site-packages/sklearn/preprocessing/_encoders.py:246: UserWarning: Found unknown categories in columns [2, 3, 5] during transform. These unknown categories will be encoded as all zeros\n",
      "  warnings.warn(\n",
      "/home/cosimo/repos/COMP0189-practical-2025/.venv/lib/python3.12/site-packages/sklearn/preprocessing/_encoders.py:246: UserWarning: Found unknown categories in columns [5, 6] during transform. These unknown categories will be encoded as all zeros\n",
      "  warnings.warn(\n"
     ]
    },
    {
     "name": "stdout",
     "output_type": "stream",
     "text": [
      "SVC (C=0.1, kernel=linear): 0.853 (+/- 0.067)\n"
     ]
    },
    {
     "name": "stderr",
     "output_type": "stream",
     "text": [
      "/home/cosimo/repos/COMP0189-practical-2025/.venv/lib/python3.12/site-packages/sklearn/preprocessing/_encoders.py:246: UserWarning: Found unknown categories in columns [2, 3, 5] during transform. These unknown categories will be encoded as all zeros\n",
      "  warnings.warn(\n",
      "/home/cosimo/repos/COMP0189-practical-2025/.venv/lib/python3.12/site-packages/sklearn/preprocessing/_encoders.py:246: UserWarning: Found unknown categories in columns [5, 6] during transform. These unknown categories will be encoded as all zeros\n",
      "  warnings.warn(\n"
     ]
    },
    {
     "name": "stdout",
     "output_type": "stream",
     "text": [
      "SVC (C=0.1, kernel=rbf): 0.813 (+/- 0.095)\n"
     ]
    },
    {
     "name": "stderr",
     "output_type": "stream",
     "text": [
      "/home/cosimo/repos/COMP0189-practical-2025/.venv/lib/python3.12/site-packages/sklearn/preprocessing/_encoders.py:246: UserWarning: Found unknown categories in columns [2, 3, 5] during transform. These unknown categories will be encoded as all zeros\n",
      "  warnings.warn(\n",
      "/home/cosimo/repos/COMP0189-practical-2025/.venv/lib/python3.12/site-packages/sklearn/preprocessing/_encoders.py:246: UserWarning: Found unknown categories in columns [5, 6] during transform. These unknown categories will be encoded as all zeros\n",
      "  warnings.warn(\n"
     ]
    },
    {
     "name": "stdout",
     "output_type": "stream",
     "text": [
      "SVC (C=0.5, kernel=linear): 0.859 (+/- 0.060)\n"
     ]
    },
    {
     "name": "stderr",
     "output_type": "stream",
     "text": [
      "/home/cosimo/repos/COMP0189-practical-2025/.venv/lib/python3.12/site-packages/sklearn/preprocessing/_encoders.py:246: UserWarning: Found unknown categories in columns [2, 3, 5] during transform. These unknown categories will be encoded as all zeros\n",
      "  warnings.warn(\n",
      "/home/cosimo/repos/COMP0189-practical-2025/.venv/lib/python3.12/site-packages/sklearn/preprocessing/_encoders.py:246: UserWarning: Found unknown categories in columns [5, 6] during transform. These unknown categories will be encoded as all zeros\n",
      "  warnings.warn(\n"
     ]
    },
    {
     "name": "stdout",
     "output_type": "stream",
     "text": [
      "SVC (C=0.5, kernel=rbf): 0.838 (+/- 0.084)\n"
     ]
    },
    {
     "name": "stderr",
     "output_type": "stream",
     "text": [
      "/home/cosimo/repos/COMP0189-practical-2025/.venv/lib/python3.12/site-packages/sklearn/preprocessing/_encoders.py:246: UserWarning: Found unknown categories in columns [2, 3, 5] during transform. These unknown categories will be encoded as all zeros\n",
      "  warnings.warn(\n",
      "/home/cosimo/repos/COMP0189-practical-2025/.venv/lib/python3.12/site-packages/sklearn/preprocessing/_encoders.py:246: UserWarning: Found unknown categories in columns [5, 6] during transform. These unknown categories will be encoded as all zeros\n",
      "  warnings.warn(\n"
     ]
    },
    {
     "name": "stdout",
     "output_type": "stream",
     "text": [
      "SVC (C=1.0, kernel=linear): 0.860 (+/- 0.060)\n"
     ]
    },
    {
     "name": "stderr",
     "output_type": "stream",
     "text": [
      "/home/cosimo/repos/COMP0189-practical-2025/.venv/lib/python3.12/site-packages/sklearn/preprocessing/_encoders.py:246: UserWarning: Found unknown categories in columns [2, 3, 5] during transform. These unknown categories will be encoded as all zeros\n",
      "  warnings.warn(\n",
      "/home/cosimo/repos/COMP0189-practical-2025/.venv/lib/python3.12/site-packages/sklearn/preprocessing/_encoders.py:246: UserWarning: Found unknown categories in columns [5, 6] during transform. These unknown categories will be encoded as all zeros\n",
      "  warnings.warn(\n"
     ]
    },
    {
     "name": "stdout",
     "output_type": "stream",
     "text": [
      "SVC (C=1.0, kernel=rbf): 0.846 (+/- 0.080)\n",
      "\n",
      "Best parameters: C=1.0, kernel=linear\n",
      "\n",
      "Test set accuracy: 0.852\n",
      "Best CV score: 0.860\n",
      "Average CV score: 0.845\n"
     ]
    }
   ],
   "source": [
    "cv_strategy = StratifiedGroupKFold(n_splits=2,)  # 2-fold Stratified cross-validation\n",
    "\n",
    "# Try all combinations and store results\n",
    "svc_cv_results = []\n",
    "for C in C_values:\n",
    "    for kernel in kernel_values:\n",
    "        # Create pipeline with preprocessing and model\n",
    "        svc_model = make_pipeline(preprocessor, SVC(random_state=42, kernel=kernel, C=C))\n",
    "\n",
    "        # Create group labels\n",
    "        group_labels = (train_X[\"sex\"] == \"Male\").to_numpy(dtype=np.int16)\n",
    "\n",
    "        # Get cross-validation scores\n",
    "        mean_score, std_score = perform_cv(train_X, train_y, svc_model, cv_strategy, groups=group_labels)\n",
    "        svc_cv_results.append((C, kernel, mean_score, std_score))\n",
    "        print(f\"SVC (C={C}, kernel={kernel}): {mean_score:.3f} (+/- {std_score:.3f})\")\n",
    "\n",
    "# Find best parameters based on CV results\n",
    "best_svc_params = max(svc_cv_results, key=lambda x: x[2])\n",
    "print(f\"\\nBest parameters: C={best_svc_params[0]}, kernel={best_svc_params[1]}\")\n",
    "\n",
    "# Create and train final model with best parameters\n",
    "best_svc = make_pipeline(preprocessor, SVC(\n",
    "    C=best_svc_params[0],\n",
    "    kernel=best_svc_params[1],\n",
    "    random_state=42\n",
    "))\n",
    "best_svc.fit(train_X, train_y)\n",
    "\n",
    "# Evaluate\n",
    "cv_scores = np.array([score for _, _, score, _ in svc_cv_results])\n",
    "test_score = best_svc.score(test_X, test_y)\n",
    "print(f\"\\nTest set accuracy: {test_score:.3f}\")\n",
    "print(f\"Best CV score: {np.max(cv_scores):.3f}\")\n",
    "print(f\"Average CV score: {np.mean(cv_scores):.3f}\")"
   ]
  },
  {
   "cell_type": "markdown",
   "metadata": {},
   "source": [
    "### Task 7: Using Scikit's GridSearchCV\n",
    "So far, we manually calculated the accuracy score of each cross-validation fold using the `perform_cv` function. This allowed us to show how cross-validation works in detail, but in practice we'd probably use the utilities provided by Scikit instead. One such utility is [GridSearchCV](https://scikit-learn.org/stable/modules/generated/sklearn.model_selection.GridSearchCV.html), a Scikit class to automatically perform hyperparameter optimisation by calculating the CV score for a \"grid\" of hyperparameters.\n",
    "\n",
    "Here, rewrite the hyperparameter optimisation code so that it uses GridSearchCV to search the hyperparameters grid and train the final model.\n",
    "\n",
    "See also the [user guide](https://scikit-learn.org/stable/modules/grid_search.html) for hyperparameter optimisation with Scikit."
   ]
  },
  {
   "cell_type": "code",
   "execution_count": 44,
   "metadata": {},
   "outputs": [
    {
     "name": "stdout",
     "output_type": "stream",
     "text": [
      "Fitting 2 folds for each of 6 candidates, totalling 12 fits\n"
     ]
    },
    {
     "name": "stderr",
     "output_type": "stream",
     "text": [
      "/home/cosimo/repos/COMP0189-practical-2025/.venv/lib/python3.12/site-packages/sklearn/preprocessing/_encoders.py:246: UserWarning: Found unknown categories in columns [6] during transform. These unknown categories will be encoded as all zeros\n",
      "  warnings.warn(\n",
      "/home/cosimo/repos/COMP0189-practical-2025/.venv/lib/python3.12/site-packages/sklearn/preprocessing/_encoders.py:246: UserWarning: Found unknown categories in columns [6] during transform. These unknown categories will be encoded as all zeros\n",
      "  warnings.warn(\n",
      "/home/cosimo/repos/COMP0189-practical-2025/.venv/lib/python3.12/site-packages/sklearn/preprocessing/_encoders.py:246: UserWarning: Found unknown categories in columns [6] during transform. These unknown categories will be encoded as all zeros\n",
      "  warnings.warn(\n",
      "/home/cosimo/repos/COMP0189-practical-2025/.venv/lib/python3.12/site-packages/sklearn/preprocessing/_encoders.py:246: UserWarning: Found unknown categories in columns [6] during transform. These unknown categories will be encoded as all zeros\n",
      "  warnings.warn(\n",
      "/home/cosimo/repos/COMP0189-practical-2025/.venv/lib/python3.12/site-packages/sklearn/preprocessing/_encoders.py:246: UserWarning: Found unknown categories in columns [6] during transform. These unknown categories will be encoded as all zeros\n",
      "  warnings.warn(\n",
      "/home/cosimo/repos/COMP0189-practical-2025/.venv/lib/python3.12/site-packages/sklearn/preprocessing/_encoders.py:246: UserWarning: Found unknown categories in columns [6] during transform. These unknown categories will be encoded as all zeros\n",
      "  warnings.warn(\n"
     ]
    },
    {
     "name": "stdout",
     "output_type": "stream",
     "text": [
      "\n",
      "SVC Results:\n",
      "Average cross-validation score:  0.847424534924535\n",
      "Best cross-validation score:  0.8518778518778518\n",
      "Best hyperparameters:  {'svc__C': 10, 'svc__kernel': 'rbf'}\n",
      "Test score:  0.8548469648889344\n"
     ]
    }
   ],
   "source": [
    "############## Step 1: Define Model and Pipeline ##############\n",
    "# Create a pipeline that combines preprocessing and SVC model\n",
    "# This ensures preprocessing steps are properly included in cross-validation\n",
    "model_svc = make_pipeline(preprocessor, SVC(random_state=42))\n",
    "\n",
    "############## Step 2: Define Hyperparameter Search Space ##############\n",
    "# Specify the parameters to search\n",
    "# Note: 'svc__' prefix is required because SVC is part of a pipeline\n",
    "param_grid = {\n",
    "    'svc__C': [0.1, 1, 10],          # Regularization parameter\n",
    "    'svc__kernel': ['linear', 'rbf']  # Kernel types\n",
    "}\n",
    "\n",
    "############## Step 3: Setup Cross-validation Strategy ##############\n",
    "# Use StratifiedKFold to maintain the same ratio of samples for each class\n",
    "cv = StratifiedKFold(n_splits=2)\n",
    "\n",
    "############## Step 4: Configure Grid Search ##############\n",
    "# Initialize GridSearchCV with all parameters\n",
    "grid_search = GridSearchCV(\n",
    "    estimator=model_svc,              # Pipeline to use\n",
    "    param_grid=param_grid,            # Parameter combinations to try\n",
    "    n_jobs=-1,                        # Number of parallel jobs, here we use as many as processor cores\n",
    "    cv=cv,                            # Cross-validation strategy\n",
    "    scoring=\"accuracy\",               # Metric to optimize\n",
    "    error_score=0,                    # Score to assign if error occurs\n",
    "    verbose=1,                        # Print progress\n",
    "    refit=True                        # After finding the best hyperparameters, refit the model on the whole training data\n",
    ")\n",
    "\n",
    "############## Step 5: Perform Grid Search and fit the final model ##############\n",
    "# Fit the grid search to find best parameters\n",
    "# This step performs cross-validation for all parameter combinations\n",
    "grid_result = grid_search.fit(train_X, train_y)\n",
    "\n",
    "############## Step 6: Make Predictions ##############\n",
    "# Apply model to test set\n",
    "y_hat_svc = grid_result.predict(test_X)\n",
    "\n",
    "############## Step 7: Print Results ##############\n",
    "print(\"\\nSVC Results:\")\n",
    "print(\"Average cross-validation score: \", grid_result.cv_results_['mean_test_score'].mean())\n",
    "print(\"Best cross-validation score: \", grid_result.best_score_)\n",
    "print(\"Best hyperparameters: \", grid_result.best_params_)\n",
    "print(\"Test score: \", accuracy_score(y_hat_svc, test_y))\n"
   ]
  },
  {
   "cell_type": "markdown",
   "metadata": {},
   "source": [
    "### Task 8: Nested cross-validation\n",
    "Now implement a nested CV for optimize the models’ hyper-parameters and assessing the models’ performance (with k=5 for the inner and outer loop). The inner loop should optimize the models’ hyper-parameters and the outer loop should assess the models’ performance."
   ]
  },
  {
   "cell_type": "code",
   "execution_count": 45,
   "metadata": {},
   "outputs": [
    {
     "name": "stdout",
     "output_type": "stream",
     "text": [
      "Fitting 5 folds for each of 4 candidates, totalling 20 fits\n"
     ]
    },
    {
     "name": "stderr",
     "output_type": "stream",
     "text": [
      "/home/cosimo/repos/COMP0189-practical-2025/.venv/lib/python3.12/site-packages/sklearn/preprocessing/_encoders.py:246: UserWarning: Found unknown categories in columns [6] during transform. These unknown categories will be encoded as all zeros\n",
      "  warnings.warn(\n",
      "/home/cosimo/repos/COMP0189-practical-2025/.venv/lib/python3.12/site-packages/sklearn/preprocessing/_encoders.py:246: UserWarning: Found unknown categories in columns [6] during transform. These unknown categories will be encoded as all zeros\n",
      "  warnings.warn(\n",
      "/home/cosimo/repos/COMP0189-practical-2025/.venv/lib/python3.12/site-packages/sklearn/preprocessing/_encoders.py:246: UserWarning: Found unknown categories in columns [6] during transform. These unknown categories will be encoded as all zeros\n",
      "  warnings.warn(\n",
      "/home/cosimo/repos/COMP0189-practical-2025/.venv/lib/python3.12/site-packages/sklearn/preprocessing/_encoders.py:246: UserWarning: Found unknown categories in columns [6] during transform. These unknown categories will be encoded as all zeros\n",
      "  warnings.warn(\n"
     ]
    },
    {
     "name": "stdout",
     "output_type": "stream",
     "text": [
      "Fitting 5 folds for each of 4 candidates, totalling 20 fits\n"
     ]
    },
    {
     "name": "stderr",
     "output_type": "stream",
     "text": [
      "/home/cosimo/repos/COMP0189-practical-2025/.venv/lib/python3.12/site-packages/sklearn/preprocessing/_encoders.py:246: UserWarning: Found unknown categories in columns [6] during transform. These unknown categories will be encoded as all zeros\n",
      "  warnings.warn(\n",
      "/home/cosimo/repos/COMP0189-practical-2025/.venv/lib/python3.12/site-packages/sklearn/preprocessing/_encoders.py:246: UserWarning: Found unknown categories in columns [6] during transform. These unknown categories will be encoded as all zeros\n",
      "  warnings.warn(\n",
      "/home/cosimo/repos/COMP0189-practical-2025/.venv/lib/python3.12/site-packages/sklearn/preprocessing/_encoders.py:246: UserWarning: Found unknown categories in columns [6] during transform. These unknown categories will be encoded as all zeros\n",
      "  warnings.warn(\n",
      "/home/cosimo/repos/COMP0189-practical-2025/.venv/lib/python3.12/site-packages/sklearn/preprocessing/_encoders.py:246: UserWarning: Found unknown categories in columns [6] during transform. These unknown categories will be encoded as all zeros\n",
      "  warnings.warn(\n"
     ]
    },
    {
     "name": "stdout",
     "output_type": "stream",
     "text": [
      "Fitting 5 folds for each of 4 candidates, totalling 20 fits\n"
     ]
    },
    {
     "name": "stderr",
     "output_type": "stream",
     "text": [
      "/home/cosimo/repos/COMP0189-practical-2025/.venv/lib/python3.12/site-packages/sklearn/preprocessing/_encoders.py:246: UserWarning: Found unknown categories in columns [6] during transform. These unknown categories will be encoded as all zeros\n",
      "  warnings.warn(\n",
      "/home/cosimo/repos/COMP0189-practical-2025/.venv/lib/python3.12/site-packages/sklearn/preprocessing/_encoders.py:246: UserWarning: Found unknown categories in columns [6] during transform. These unknown categories will be encoded as all zeros\n",
      "  warnings.warn(\n",
      "/home/cosimo/repos/COMP0189-practical-2025/.venv/lib/python3.12/site-packages/sklearn/preprocessing/_encoders.py:246: UserWarning: Found unknown categories in columns [6] during transform. These unknown categories will be encoded as all zeros\n",
      "  warnings.warn(\n",
      "/home/cosimo/repos/COMP0189-practical-2025/.venv/lib/python3.12/site-packages/sklearn/preprocessing/_encoders.py:246: UserWarning: Found unknown categories in columns [6] during transform. These unknown categories will be encoded as all zeros\n",
      "  warnings.warn(\n"
     ]
    },
    {
     "name": "stdout",
     "output_type": "stream",
     "text": [
      "Fitting 5 folds for each of 4 candidates, totalling 20 fits\n"
     ]
    },
    {
     "name": "stderr",
     "output_type": "stream",
     "text": [
      "/home/cosimo/repos/COMP0189-practical-2025/.venv/lib/python3.12/site-packages/sklearn/preprocessing/_encoders.py:246: UserWarning: Found unknown categories in columns [6] during transform. These unknown categories will be encoded as all zeros\n",
      "  warnings.warn(\n"
     ]
    },
    {
     "name": "stdout",
     "output_type": "stream",
     "text": [
      "Fitting 5 folds for each of 4 candidates, totalling 20 fits\n"
     ]
    },
    {
     "name": "stderr",
     "output_type": "stream",
     "text": [
      "/home/cosimo/repos/COMP0189-practical-2025/.venv/lib/python3.12/site-packages/sklearn/preprocessing/_encoders.py:246: UserWarning: Found unknown categories in columns [6] during transform. These unknown categories will be encoded as all zeros\n",
      "  warnings.warn(\n",
      "/home/cosimo/repos/COMP0189-practical-2025/.venv/lib/python3.12/site-packages/sklearn/preprocessing/_encoders.py:246: UserWarning: Found unknown categories in columns [6] during transform. These unknown categories will be encoded as all zeros\n",
      "  warnings.warn(\n",
      "/home/cosimo/repos/COMP0189-practical-2025/.venv/lib/python3.12/site-packages/sklearn/preprocessing/_encoders.py:246: UserWarning: Found unknown categories in columns [6] during transform. These unknown categories will be encoded as all zeros\n",
      "  warnings.warn(\n",
      "/home/cosimo/repos/COMP0189-practical-2025/.venv/lib/python3.12/site-packages/sklearn/preprocessing/_encoders.py:246: UserWarning: Found unknown categories in columns [6] during transform. These unknown categories will be encoded as all zeros\n",
      "  warnings.warn(\n"
     ]
    },
    {
     "name": "stdout",
     "output_type": "stream",
     "text": [
      "\n",
      "Nested CV Results for SVC:\n",
      "Mean Accuracy: 0.849 (+/- 0.002)\n",
      "Individual Fold Scores: ['0.845', '0.848', '0.852', '0.851', '0.849']\n"
     ]
    }
   ],
   "source": [
    "from sklearn.model_selection import GridSearchCV\n",
    "from sklearn.metrics import accuracy_score\n",
    "import numpy as np\n",
    "\n",
    "############## Step 1: Initialize Setup ##############\n",
    "# Initialize empty list to store scores from each outer fold\n",
    "score = []\n",
    "\n",
    "# Define base model with pipeline\n",
    "model_svc = make_pipeline(preprocessor, SVC(random_state=42))\n",
    "\n",
    "# Define hyperparameter search space\n",
    "param_grid = {\n",
    "    'svc__C': [0.1, 1],              # Regularization parameters to try\n",
    "    'svc__kernel': ['linear', 'rbf']  # Kernel types to try\n",
    "}\n",
    "\n",
    "############## Step 2: Nested Cross-Validation ##############\n",
    "inner_cv = KFold(n_splits=5)\n",
    "outer_cv = KFold(n_splits=5)\n",
    "\n",
    "# Outer loop of nested CV\n",
    "for i, (train_index, test_index) in enumerate(outer_cv.split(adult_df)):\n",
    "    # Split data for this outer fold\n",
    "    train_data = adult_df.iloc[train_index].drop([\"y\"], axis=1)\n",
    "    test_data = adult_df.iloc[test_index].drop([\"y\"], axis=1)\n",
    "    \n",
    "    # Prepare target variables (convert to binary)\n",
    "    train_data_y = np.where(adult_df.iloc[train_index][\"y\"] == \">50K\", 1, 0)\n",
    "    test_data_y = np.where(adult_df.iloc[test_index][\"y\"] == \">50K\", 1, 0)\n",
    "    \n",
    "    ############## Step 3: Inner Cross-Validation ##############\n",
    "    # Configure GridSearchCV for inner loop\n",
    "    grid_search = GridSearchCV(\n",
    "        estimator=model_svc,\n",
    "        param_grid=param_grid,\n",
    "        n_jobs=-1,                    # Number of parallel jobs\n",
    "        cv=inner_cv,                  # Inner CV strategy\n",
    "        scoring=\"accuracy\",           # Evaluation metric\n",
    "        error_score=0,\n",
    "        verbose=1,\n",
    "        refit=True                    # After finding the best hyperparameters, refit the model on the whole training data\n",
    "    )\n",
    "    \n",
    "    # Perform grid search on training data\n",
    "    grid_result = grid_search.fit(train_data, train_data_y)\n",
    "\n",
    "    ############## Step 5: Evaluation ##############\n",
    "    # Make predictions on test set\n",
    "    y_hat_svc = grid_result.predict(test_data)\n",
    "    \n",
    "    # Calculate and store accuracy for this fold\n",
    "    score.append(accuracy_score(y_hat_svc, test_data_y))\n",
    "\n",
    "############## Step 6: Results Summary ##############\n",
    "print(\"\\nNested CV Results for SVC:\")\n",
    "print(f\"Mean Accuracy: {np.mean(score):.3f} (+/- {np.std(score):.3f})\")\n",
    "print(f\"Individual Fold Scores: {[f'{s:.3f}' for s in score]}\")"
   ]
  }
 ],
 "metadata": {
  "kernelspec": {
   "display_name": ".venv",
   "language": "python",
   "name": "python3"
  },
  "language_info": {
   "codemirror_mode": {
    "name": "ipython",
    "version": 3
   },
   "file_extension": ".py",
   "mimetype": "text/x-python",
   "name": "python",
   "nbconvert_exporter": "python",
   "pygments_lexer": "ipython3",
   "version": "3.12.7"
  }
 },
 "nbformat": 4,
 "nbformat_minor": 2
}
